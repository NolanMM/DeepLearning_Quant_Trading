{
 "cells": [
  {
   "cell_type": "code",
   "execution_count": 1,
   "id": "d7c3c0ad-6e02-42a0-bf92-02a020998cf4",
   "metadata": {},
   "outputs": [],
   "source": [
    "import pandas as pd"
   ]
  },
  {
   "cell_type": "markdown",
   "id": "594b9733-da40-4d01-99bb-7adfa2c6e4b6",
   "metadata": {},
   "source": [
    "# I. Import Raw Data"
   ]
  },
  {
   "cell_type": "code",
   "execution_count": 2,
   "id": "026487e3-738e-43e1-bdb1-c39d5fefae53",
   "metadata": {},
   "outputs": [],
   "source": [
    "df_raw = pd.read_csv(\"./2024-07-11T19-39_export.csv\")\n",
    "df_raw = df_raw.rename(columns={\"Unnamed: 0\": \"index\"})\n",
    "df_raw['date'] = pd.to_datetime(df_raw['date'])\n",
    "#df_raw"
   ]
  },
  {
   "cell_type": "markdown",
   "id": "81eda4fc-f403-4d40-8183-8dba65354a91",
   "metadata": {},
   "source": [
    "# II. Filling Methods"
   ]
  },
  {
   "cell_type": "markdown",
   "id": "87830d70-37b6-4559-88cb-e24e33959e27",
   "metadata": {},
   "source": [
    "## 1.Mean 15 days before data set"
   ]
  },
  {
   "cell_type": "code",
   "execution_count": 3,
   "id": "f31514a3-edbd-4e87-80e3-835e56f20455",
   "metadata": {},
   "outputs": [],
   "source": [
    "df_Mean_15_day_ = df_raw.copy()\n",
    "\n",
    "class mean_15_days_filling:\n",
    "    def __init__(self, df_Mean_15_day_input_):\n",
    "        self.df_Mean_15_day_input = df_Mean_15_day_input_\n",
    "        self.df_Mean_15_day_output = self.process_filling()\n",
    "        \n",
    "    def process_filling(self):\n",
    "        try:\n",
    "            for index, row in self.df_Mean_15_day_input.iterrows():\n",
    "                for col in self.df_Mean_15_day_input.columns:\n",
    "                    if row[col] == -1:\n",
    "                        mean_value = self.get_mean_15_days(row['date'], col)\n",
    "                        self.df_Mean_15_day_input.at[index, col] = mean_value\n",
    "            return self.df_Mean_15_day_input\n",
    "        except Exception as e:\n",
    "            print(f\"An error occurred: {e}\")\n",
    "            return None\n",
    "\n",
    "    def get_mean_15_days(self, current_date, col_name):\n",
    "        start_date = current_date - pd.Timedelta(days=15)\n",
    "        mask = (self.df_Mean_15_day_input['date'] < current_date) & (self.df_Mean_15_day_input['date'] >= start_date)\n",
    "        return self.df_Mean_15_day_input.loc[mask, col_name].replace(-1, pd.NA).mean()\n",
    "\n",
    "df_Mean_15_day_output_ =  mean_15_days_filling(df_Mean_15_day_).df_Mean_15_day_output\n",
    "#df_Mean_15_day_output_.style"
   ]
  },
  {
   "cell_type": "code",
   "execution_count": 4,
   "id": "89a70a31-e658-4604-810a-cd169580c173",
   "metadata": {},
   "outputs": [
    {
     "data": {
      "text/plain": [
       "index                int64\n",
       "date        datetime64[ns]\n",
       "stock_id            object\n",
       "open               float64\n",
       "high               float64\n",
       "low                float64\n",
       "close              float64\n",
       "volume             float64\n",
       "dtype: object"
      ]
     },
     "execution_count": 4,
     "metadata": {},
     "output_type": "execute_result"
    }
   ],
   "source": [
    "df_Mean_15_day_output_.dtypes"
   ]
  },
  {
   "cell_type": "markdown",
   "id": "04c4fc53-2500-471c-b11b-82a570b4cfa6",
   "metadata": {},
   "source": [
    "## 2.Backward Filling"
   ]
  },
  {
   "cell_type": "code",
   "execution_count": 5,
   "id": "54475e5a-5dc2-4e3d-89d7-97b9b57bd629",
   "metadata": {},
   "outputs": [],
   "source": [
    "backward_filling_ = df_raw.copy()\n",
    "\n",
    "class backward_filling:\n",
    "    def __init__(self, backward_filling_input_):\n",
    "        self.backward_filling_input = backward_filling_input_\n",
    "        self.backward_filling_output = self.process_filling()\n",
    "        \n",
    "    def process_filling(self):\n",
    "        try:\n",
    "            # Replace all -1 values placeholder with NA in pandas\n",
    "            self.backward_filling_input = self.backward_filling_input.replace(-1, pd.NA)\n",
    "            self.backward_filling_output = self.backward_filling_input.bfill()\n",
    "            # Convert the numeric columns to float again\n",
    "            columns_to_convert = ['open', 'high', 'low', 'close', 'volume']\n",
    "            self.backward_filling_output[columns_to_convert] = self.backward_filling_output[columns_to_convert].apply(pd.to_numeric, errors='coerce')\n",
    "            return self.backward_filling_output\n",
    "        except Exception as e:\n",
    "            print(f\"An error occurred: {e}\")\n",
    "            return None\n",
    "\n",
    "backward_filling_output_ =  backward_filling(backward_filling_).backward_filling_output\n",
    "\n",
    "#backward_filling_output_.style"
   ]
  },
  {
   "cell_type": "code",
   "execution_count": 6,
   "id": "9b9a5b89-50a8-4c47-a970-2a2b4ac42c48",
   "metadata": {},
   "outputs": [
    {
     "data": {
      "text/plain": [
       "index                int64\n",
       "date        datetime64[ns]\n",
       "stock_id            object\n",
       "open               float64\n",
       "high               float64\n",
       "low                float64\n",
       "close              float64\n",
       "volume             float64\n",
       "dtype: object"
      ]
     },
     "execution_count": 6,
     "metadata": {},
     "output_type": "execute_result"
    }
   ],
   "source": [
    "backward_filling_output_.dtypes"
   ]
  },
  {
   "cell_type": "markdown",
   "id": "3853be23-80c4-4255-8a83-2be5f65d698e",
   "metadata": {},
   "source": [
    "## 3.Forward Filling"
   ]
  },
  {
   "cell_type": "code",
   "execution_count": 7,
   "id": "3445688b-30d2-46f4-b0fc-45ffa6297386",
   "metadata": {},
   "outputs": [],
   "source": [
    "forward_filling_ = df_raw.copy()\n",
    "\n",
    "class forward_filling:\n",
    "    def __init__(self, forward_filling_input_):\n",
    "        self.forward_filling_input = forward_filling_input_\n",
    "        self.forward_filling_output = self.process_filling()\n",
    "        \n",
    "    def process_filling(self):\n",
    "        try:\n",
    "            # Replace all -1 values placeholder with NA in pandas\n",
    "            self.forward_filling_input = self.forward_filling_input.replace(-1, pd.NA)\n",
    "            self.forward_filling_output = self.forward_filling_input.ffill()\n",
    "            # Convert the numeric columns to float again\n",
    "            columns_to_convert = ['open', 'high', 'low', 'close', 'volume']\n",
    "            self.forward_filling_output[columns_to_convert] = self.forward_filling_output[columns_to_convert].apply(pd.to_numeric, errors='coerce')\n",
    "            return self.forward_filling_output\n",
    "        except Exception as e:\n",
    "            print(f\"An error occurred: {e}\")\n",
    "            return None\n",
    "\n",
    "forward_filling_output_ =  forward_filling(forward_filling_).forward_filling_output\n",
    "\n",
    "#forward_filling_output_.style"
   ]
  },
  {
   "cell_type": "code",
   "execution_count": 8,
   "id": "076d3d41-a6c8-4f7d-b4ea-da8c44a06ac2",
   "metadata": {},
   "outputs": [
    {
     "data": {
      "text/plain": [
       "index                int64\n",
       "date        datetime64[ns]\n",
       "stock_id            object\n",
       "open               float64\n",
       "high               float64\n",
       "low                float64\n",
       "close              float64\n",
       "volume             float64\n",
       "dtype: object"
      ]
     },
     "execution_count": 8,
     "metadata": {},
     "output_type": "execute_result"
    }
   ],
   "source": [
    "forward_filling_output_.dtypes"
   ]
  },
  {
   "cell_type": "markdown",
   "id": "4fc5a65a-b14d-4ff0-bbe5-d9fdf4d53bd4",
   "metadata": {},
   "source": [
    "## 4.Linear Interpolation"
   ]
  },
  {
   "cell_type": "code",
   "execution_count": null,
   "id": "ed2f792a-ea81-4617-b649-fd930c102c9d",
   "metadata": {},
   "outputs": [],
   "source": [
    "linear_interpolation_ = df_raw.copy()\n",
    "\n",
    "class linear_interpolation:\n",
    "    def __init__(self, linear_interpolation_input_):\n",
    "        self.linear_interpolation_input = linear_interpolation_input_\n",
    "        self.linear_interpolation_ouput = self.process_filling()\n",
    "        \n",
    "    def process_filling(self):\n",
    "        try:\n",
    "            # Replace all -1 values placeholder with NA in pandas\n",
    "            self.linear_interpolation_input = self.linear_interpolation_input.replace(-1, pd.NA)\n",
    "            self.linear_interpolation_ouput = self.linear_interpolation_input.interpolate(method='linear')\n",
    "            # Convert the numeric columns to float again\n",
    "            columns_to_convert = ['open', 'high', 'low', 'close', 'volume']\n",
    "            self.linear_interpolation_ouput[columns_to_convert] = self.linear_interpolation_ouput[columns_to_convert].apply(pd.to_numeric, errors='coerce')\n",
    "            return self.linear_interpolation_ouput\n",
    "        except Exception as e:\n",
    "            print(f\"An error occurred: {e}\")\n",
    "            return None\n",
    "\n",
    "linear_interpolation_output_ =  linear_interpolation(linear_interpolation_).linear_interpolation_ouput\n",
    "\n",
    "#linear_interpolation_output_.style"
   ]
  },
  {
   "cell_type": "code",
   "execution_count": null,
   "id": "81b18f83-89fb-461d-b1f1-c3433b3022df",
   "metadata": {},
   "outputs": [],
   "source": [
    "linear_interpolation_output_.dtypes"
   ]
  },
  {
   "cell_type": "markdown",
   "id": "58488c17-6094-43be-adc9-197def12ec0b",
   "metadata": {},
   "source": [
    "## 5.Polynomial Interpolation"
   ]
  },
  {
   "cell_type": "code",
   "execution_count": null,
   "id": "d1ecd2cc-8d12-448d-9dc9-6c7132271706",
   "metadata": {},
   "outputs": [],
   "source": [
    "polynomial_interpolation_ = df_raw.copy()\n",
    "\n",
    "class polynomial_interpolation:\n",
    "    def __init__(self, polynomial_interpolation_input_, order_input_):\n",
    "        self.polynomial_interpolation_input = polynomial_interpolation_input_\n",
    "        self.order = order_input_\n",
    "        self.polynomial_interpolation_output = self.process_filling()\n",
    "        \n",
    "    def process_filling(self):\n",
    "        try:\n",
    "            # Replace all -1 values placeholder with NA in pandas\n",
    "            self.polynomial_interpolation_input = self.polynomial_interpolation_input.replace(-1, pd.NA)\n",
    "            self.polynomial_interpolation_output = self.polynomial_interpolation_input.interpolate(method='polynomial', order=self.order)\n",
    "            # Convert the numeric columns to float again\n",
    "            columns_to_convert = ['open', 'high', 'low', 'close', 'volume']\n",
    "            self.polynomial_interpolation_output[columns_to_convert] = self.polynomial_interpolation_output[columns_to_convert].apply(pd.to_numeric, errors='coerce')\n",
    "            return self.polynomial_interpolation_output\n",
    "        except Exception as e:\n",
    "            print(f\"An error occurred: {e}\")\n",
    "            return None\n",
    "\n",
    "polynomial_interpolation_output_ =  polynomial_interpolation(polynomial_interpolation_).polynomial_interpolation_output\n",
    "\n",
    "#polynomial_interpolation_output_.style"
   ]
  },
  {
   "cell_type": "code",
   "execution_count": null,
   "id": "d5f2c6b6-755b-4c1c-a62a-8c9bb58ac8e4",
   "metadata": {},
   "outputs": [],
   "source": [
    "polynomial_interpolation_output_.dtypes"
   ]
  },
  {
   "cell_type": "markdown",
   "id": "19cb4124-fa5d-4a8e-94fe-f15243fd652e",
   "metadata": {},
   "source": [
    "## 6.Time Based Interpolation"
   ]
  },
  {
   "cell_type": "code",
   "execution_count": null,
   "id": "a01e7180-46b8-49ad-a5ad-1430f2c24f72",
   "metadata": {},
   "outputs": [],
   "source": [
    "time_based_interpolation_ = df_raw.copy()\n",
    "\n",
    "class time_based_interpolation:\n",
    "    def __init__(self, time_based_interpolation_input_):\n",
    "        self.time_based_interpolation_input = time_based_interpolation_input_\n",
    "        self.time_based_interpolation_output = self.process_filling()\n",
    "        \n",
    "    def process_filling(self):\n",
    "        try:\n",
    "            # Replace all -1 values placeholder with NA in pandas\n",
    "            self.time_based_interpolation_input = self.time_based_interpolation_input.replace(-1, pd.NA)\n",
    "            self.time_based_interpolation_output = self.time_based_interpolation_input.interpolate(method='time')\n",
    "            # Convert the numeric columns to float again\n",
    "            columns_to_convert = ['open', 'high', 'low', 'close', 'volume']\n",
    "            self.time_based_interpolation_output[columns_to_convert] = self.time_based_interpolation_output[columns_to_convert].apply(pd.to_numeric, errors='coerce')\n",
    "            return self.time_based_interpolation_output\n",
    "        except Exception as e:\n",
    "            print(f\"An error occurred: {e}\")\n",
    "            return None\n",
    "\n",
    "time_based_interpolation_output_ =  time_based_interpolation(time_based_interpolation_).time_based_interpolation_output\n",
    "\n",
    "#time_based_interpolation_output_.style"
   ]
  },
  {
   "cell_type": "code",
   "execution_count": null,
   "id": "1e19623c-3af0-4551-acaf-6862cb30076b",
   "metadata": {},
   "outputs": [],
   "source": [
    "time_based_interpolation_output_.dtypes"
   ]
  },
  {
   "cell_type": "markdown",
   "id": "d701caf4-9a6f-42e4-9615-80f39be4791a",
   "metadata": {},
   "source": [
    "## 7.Moving Average"
   ]
  },
  {
   "cell_type": "code",
   "execution_count": null,
   "id": "9eae3159-e0fa-46ec-ac33-2bcd7d22e128",
   "metadata": {},
   "outputs": [],
   "source": [
    "moving_average_ = df_raw.copy()\n",
    "\n",
    "class moving_average:\n",
    "    def __init__(self, moving_average_input_, windows_input, min_period_input):\n",
    "        self.moving_average_input = moving_average_input_\n",
    "        self.windows = windows_input\n",
    "        self.min_period = min_period_input\n",
    "        self.moving_average_output = self.process_filling()\n",
    "        \n",
    "    def process_filling(self):\n",
    "        try:\n",
    "            # Replace all -1 values placeholder with NA in pandas\n",
    "            self.moving_average_input = self.moving_average_input.replace(-1, pd.NA)\n",
    "            self.moving_average_output = self.moving_average_input.fillna(self.moving_average_input.rolling(window=self.windows, min_periods=self.min_period).mean())\n",
    "            # Convert the numeric columns to float again\n",
    "            columns_to_convert = ['open', 'high', 'low', 'close', 'volume']\n",
    "            self.moving_average_output[columns_to_convert] = self.moving_average_output[columns_to_convert].apply(pd.to_numeric, errors='coerce')\n",
    "            return self.moving_average_output\n",
    "        except Exception as e:\n",
    "            print(f\"An error occurred: {e}\")\n",
    "            return None\n",
    "\n",
    "moving_average_output_ =  moving_average(moving_average_, 3, 1).moving_average_output\n",
    "\n",
    "#moving_average_output_.style"
   ]
  },
  {
   "cell_type": "code",
   "execution_count": null,
   "id": "63d0ab35-4d72-430f-ba15-2ed3b2a15b7e",
   "metadata": {},
   "outputs": [],
   "source": [
    "moving_average_output_.dtypes"
   ]
  },
  {
   "cell_type": "markdown",
   "id": "1c831424-fb85-4652-9bfc-99b158bee647",
   "metadata": {},
   "source": [
    "## 8.KNN Imputation"
   ]
  },
  {
   "cell_type": "code",
   "execution_count": null,
   "id": "a0b457ac-71f2-466e-8d3a-1bc1ad52fc53",
   "metadata": {},
   "outputs": [],
   "source": [
    "knn_imputation_ = df_raw.copy()\n",
    "\n",
    "class knn_imputation:\n",
    "    def __init__(self, knn_imputation_input_, n_neighbors=5):\n",
    "        self.knn_imputation_input = knn_imputation_input_\n",
    "        self.n_neighbors = n_neighbors\n",
    "        self.knn_imputation_output = self.process_filling()\n",
    "        \n",
    "    def process_filling(self):\n",
    "        try:\n",
    "            # Replace all -1 values placeholder with NA in pandas\n",
    "            self.knn_imputation_input = self.knn_imputation_input.replace(-1, pd.NA)\n",
    "            imputer = KNNImputer(n_neighbors=self.n_neighbors)\n",
    "            self.knn_imputation_output = self.knn_imputation_input.copy()\n",
    "            imputed_data = imputer.fit_transform(self.knn_imputation_output)\n",
    "            self.knn_imputation_output.iloc[:, :] = imputed_data\n",
    "            # Convert the numeric columns to float again\n",
    "            columns_to_convert = ['open', 'high', 'low', 'close', 'volume']\n",
    "            self.knn_imputation_output[columns_to_convert] = self.knn_imputation_output[columns_to_convert].apply(pd.to_numeric, errors='coerce')\n",
    "            return self.knn_imputation_output\n",
    "        except Exception as e:\n",
    "            print(f\"An error occurred: {e}\")\n",
    "            return None\n",
    "            \n",
    "knn_imputation_output_ = KNNImputation(knn_imputation_, n_neighbors=3).knn_imputation_output\n",
    "#knn_imputation_output_.style"
   ]
  },
  {
   "cell_type": "code",
   "execution_count": null,
   "id": "828feec1-769e-4eda-9ac9-fc215fbc83ef",
   "metadata": {},
   "outputs": [],
   "source": [
    "knn_imputation_output_.dtypes"
   ]
  },
  {
   "cell_type": "markdown",
   "id": "cda97bd9-6013-49e8-ae14-2e82a112a645",
   "metadata": {},
   "source": [
    "## 9.ARIMA Imputation"
   ]
  },
  {
   "cell_type": "code",
   "execution_count": null,
   "id": "b4424f35-867e-4c7f-aa52-f0a33f6a8de1",
   "metadata": {},
   "outputs": [],
   "source": [
    "arima_imputation_ = df_raw.copy()\n",
    "\n",
    "class arima_imputation:\n",
    "    def __init__(self, arima_imputation_input_, order=(1, 1, 1)):\n",
    "        self.arima_imputation_input = arima_imputation_input_\n",
    "        self.order = order\n",
    "        self.arima_imputation_output = self.process_filling()\n",
    "        \n",
    "    def process_filling(self):\n",
    "        try:\n",
    "            # Replace all -1 values placeholder with NA in pandas\n",
    "            self.arima_imputation_input = self.arima_imputation_input.replace(-1, pd.NA)\n",
    "            self.arima_imputation_output = self.arima_imputation_input.copy()\n",
    "            columns_to_impute = ['open', 'high', 'low', 'close', 'volume']\n",
    "            \n",
    "            for column in columns_to_impute:\n",
    "                series = self.arima_imputation_output[column]\n",
    "                model = ARIMA(series, order=self.order)\n",
    "                model_fit = model.fit()\n",
    "                imputed_values = model_fit.predict(start=0, end=len(series)-1)\n",
    "                self.arima_imputation_output[column] = series.fillna(pd.Series(imputed_values, index=series.index))\n",
    "                \n",
    "            # Convert the numeric columns to float again\n",
    "            self.arima_imputation_output[columns_to_impute] = self.arima_imputation_output[columns_to_impute].apply(pd.to_numeric, errors='coerce')\n",
    "            return self.arima_imputation_output\n",
    "        except Exception as e:\n",
    "            print(f\"An error occurred: {e}\")\n",
    "            return None\n",
    "\n",
    "arima_imputation_output_ = ARIMAImputation(df_raw.copy(), order=(1, 1, 1)).arima_imputation_output\n",
    "#arima_imputation_output_.style"
   ]
  },
  {
   "cell_type": "code",
   "execution_count": null,
   "id": "28e646b6-e48b-42ab-8db1-e55b1b284039",
   "metadata": {},
   "outputs": [],
   "source": [
    "arima_imputation_output_.dtypes"
   ]
  }
 ],
 "metadata": {
  "kernelspec": {
   "display_name": "Python 3 (ipykernel)",
   "language": "python",
   "name": "python3"
  },
  "language_info": {
   "codemirror_mode": {
    "name": "ipython",
    "version": 3
   },
   "file_extension": ".py",
   "mimetype": "text/x-python",
   "name": "python",
   "nbconvert_exporter": "python",
   "pygments_lexer": "ipython3",
   "version": "3.8.10"
  }
 },
 "nbformat": 4,
 "nbformat_minor": 5
}
