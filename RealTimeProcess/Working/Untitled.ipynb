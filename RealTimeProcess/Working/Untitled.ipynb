{
 "cells": [
  {
   "cell_type": "code",
   "execution_count": 10,
   "id": "17166804-ea32-4f11-a7a2-f8af8bec4e62",
   "metadata": {},
   "outputs": [
    {
     "name": "stdout",
     "output_type": "stream",
     "text": [
      "Successfully retrieved the page\n",
      "Today's news for symbol AAPL\n",
      "                                               Title  \\\n",
      "0  Yahoo FinanceThis is Who Owns the Most Apple S...   \n",
      "1  The Motley FoolNvidia, Microsoft, or Apple: Wh...   \n",
      "\n",
      "                                                Link Published Date  \n",
      "0  https://finance.yahoo.com/news/owns-most-apple...     2024-06-25  \n",
      "1  https://www.fool.com/investing/2024/06/24/nvid...     2024-06-25  \n"
     ]
    }
   ],
   "source": [
    "import requests\n",
    "from bs4 import BeautifulSoup\n",
    "import pandas as pd\n",
    "from datetime import datetime\n",
    "\n",
    "# Define the stock symbol\n",
    "symbol = 'AAPL'\n",
    "url = f'https://www.google.com/finance/quote/{symbol}:NASDAQ'\n",
    "\n",
    "# Send an HTTP request to fetch the page content\n",
    "response = requests.get(url)\n",
    "\n",
    "if response.status_code == 200:\n",
    "    print(\"Successfully retrieved the page\")\n",
    "else:\n",
    "    print(\"Failed to retrieve the page\")\n",
    "    exit()\n",
    "\n",
    "# Parse the HTML content using BeautifulSoup\n",
    "soup = BeautifulSoup(response.content, 'html.parser')\n",
    "\n",
    "# Extract news articles\n",
    "news_section = soup.find_all('div', {'class': 'zLrlHb EA7tRd'})\n",
    "news_data = []\n",
    "today_date = datetime.today().strftime('%Y-%m-%d')\n",
    "\n",
    "for article in news_section:\n",
    "    title_element = article.find('a', {'class': 'TxRU9d'})\n",
    "    if title_element:\n",
    "        title = title_element.get_text()\n",
    "        link = title_element['href']\n",
    "        date_element = article.find('div', {'class': 'HzW5e'})\n",
    "        if date_element:\n",
    "            published_date = date_element.get_text()\n",
    "            # Check if the article is from today\n",
    "            #if 'day ago' in published_date or 'hours ago' in published_date:\n",
    "            news_data.append({'Title': title, 'Link': link, 'Published Date': today_date})\n",
    "\n",
    "news_df = pd.DataFrame(news_data)\n",
    "print(\"Today's news for symbol\", symbol)\n",
    "print(news_df)\n"
   ]
  },
  {
   "cell_type": "code",
   "execution_count": 9,
   "id": "3df2ba78-e674-4526-9f30-eca25e505ab5",
   "metadata": {},
   "outputs": [
    {
     "name": "stdout",
     "output_type": "stream",
     "text": [
      "{'Previous close': '$208.14', 'Day range': '$208.61 - $211.38', 'Year range': '$164.08 - $220.20', 'Market cap': '3.21T USD', 'Avg Volume': '74.92M', 'P/E ratio': '32.51', 'Dividend yield': '0.48%', 'Primary exchange': 'NASDAQ', 'CEO': 'Tim Cook', 'Founded': 'Apr 1, 1976', 'Headquarters': 'Cupertino, CaliforniaUnited States', 'Website': 'apple.com', 'Employees': '161,000'}\n"
     ]
    }
   ],
   "source": [
    "import requests\n",
    "from bs4 import BeautifulSoup\n",
    "\n",
    "\n",
    "BASE_URL = \"https://www.google.com/finance\"\n",
    "INDEX = \"NASDAQ\"\n",
    "SYMBOL = \"AAPL\"\n",
    "LANGUAGE = \"en\"\n",
    "TARGET_URL = f\"{BASE_URL}/quote/{SYMBOL}:{INDEX}?hl={LANGUAGE}\"\n",
    "\n",
    "# make an HTTP request\n",
    "page = requests.get(TARGET_URL)\n",
    "\n",
    "\n",
    "# use an HTML parser to grab the content from \"page\"\n",
    "soup = BeautifulSoup(page.content, \"html.parser\")\n",
    "\n",
    "\n",
    "# get the items that describe the stock\n",
    "items = soup.find_all(\"div\", {\"class\": \"gyFHrc\"})\n",
    "\n",
    "\n",
    "# create a dictionary to store the stock description\n",
    "stock_description = {}\n",
    "\n",
    "\n",
    "# iterate over the items and append them to the dictionary\n",
    "for item in items:\n",
    "    item_description = item.find(\"div\", {\"class\": \"mfs7Fc\"}).text\n",
    "    item_value = item.find(\"div\", {\"class\": \"P6K39c\"}).text\n",
    "    stock_description[item_description] = item_value\n",
    "\n",
    "\n",
    "print(stock_description)"
   ]
  },
  {
   "cell_type": "code",
   "execution_count": null,
   "id": "5320c562-008e-4cf7-a794-26b4c702507e",
   "metadata": {},
   "outputs": [],
   "source": []
  }
 ],
 "metadata": {
  "kernelspec": {
   "display_name": "Python 3 (ipykernel)",
   "language": "python",
   "name": "python3"
  },
  "language_info": {
   "codemirror_mode": {
    "name": "ipython",
    "version": 3
   },
   "file_extension": ".py",
   "mimetype": "text/x-python",
   "name": "python",
   "nbconvert_exporter": "python",
   "pygments_lexer": "ipython3",
   "version": "3.8.10"
  }
 },
 "nbformat": 4,
 "nbformat_minor": 5
}
