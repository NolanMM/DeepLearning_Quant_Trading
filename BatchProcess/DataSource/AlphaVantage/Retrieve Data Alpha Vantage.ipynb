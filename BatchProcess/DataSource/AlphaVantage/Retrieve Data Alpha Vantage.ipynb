{
 "cells": [
  {
   "cell_type": "code",
   "execution_count": null,
   "id": "de71fd75-6dc9-4a45-952e-81732c3d8e26",
   "metadata": {},
   "outputs": [],
   "source": [
    "from alpha_vantage.timeseries import TimeSeries\n",
    "import pandas as pd\n",
    "from dotenv import load_dotenv\n",
    "import os\n",
    "\n",
    "load_dotenv(override=True)\n",
    "\n",
    "api_key = os.getenv('alpha_vantage_api')\n",
    "\n",
    "symbol = 'AAPL'\n",
    "\n",
    "# Initialize the TimeSeries object with API key\n",
    "ts = TimeSeries(key=api_key, output_format='pandas')\n",
    "\n",
    "# Specify the function to get daily financial data\n",
    "# 'Time Series (Daily)' returns daily data\n",
    "data, meta_data = ts.get_daily(symbol=symbol, outputsize='full')\n",
    "\n",
    "# Extract and display the relevant information\n",
    "df = data.rename(columns={'1. open': 'Open', '2. high': 'High', '3. low': 'Low', '4. close': 'Close', '5. volume': 'Volume'})\n",
    "df.index = pd.to_datetime(df.index)\n",
    "#df.to_csv(f'{symbol.lower()}_data_alpha_vantage_daily.csv')"
   ]
  }
 ],
 "metadata": {
  "kernelspec": {
   "display_name": "Python 3 (ipykernel)",
   "language": "python",
   "name": "python3"
  },
  "language_info": {
   "codemirror_mode": {
    "name": "ipython",
    "version": 3
   },
   "file_extension": ".py",
   "mimetype": "text/x-python",
   "name": "python",
   "nbconvert_exporter": "python",
   "pygments_lexer": "ipython3",
   "version": "3.8.0"
  }
 },
 "nbformat": 4,
 "nbformat_minor": 5
}
