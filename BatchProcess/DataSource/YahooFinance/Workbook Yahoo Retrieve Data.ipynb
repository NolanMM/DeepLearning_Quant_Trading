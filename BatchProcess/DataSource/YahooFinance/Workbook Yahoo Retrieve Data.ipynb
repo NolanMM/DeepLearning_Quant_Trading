{
 "cells": [
  {
   "cell_type": "code",
   "execution_count": 5,
   "id": "4e86daf8-e0cb-4767-bb8a-f8cf46a10fbe",
   "metadata": {},
   "outputs": [],
   "source": [
    "from pyspark.sql.types import StructType, StructField, StringType\n",
    "from pyspark.sql import SparkSession\n",
    "from dotenv import load_dotenv\n",
    "from datetime import datetime\n",
    "import yfinance as yf\n",
    "import pandas as pd\n",
    "import os\n",
    "\n",
    "load_dotenv(override=True)\n",
    "\n",
    "postgres_v = os.getenv(\"POSTGRES_VERSION\")\n",
    "postgres_url = os.getenv(\"POSTGRES_URL\")\n",
    "postgres_user = os.getenv(\"POSTGRES_USER\")\n",
    "postgres_pass = os.getenv(\"POSTGRES_PASSWORD\")\n",
    "postgres_table = os.getenv(\"POSTGRES_TABLE\")\n",
    "format_file = os.getenv(\"FORMAT_FILE\")\n",
    "_mode = os.getenv(\"MODE\")\n",
    "\n",
    "config_ = postgres_v\n",
    "\n",
    "column_1_name = os.getenv(\"COLUMN_1\")\n",
    "column_2_name = os.getenv(\"COLUMN_2\")\n",
    "column_3_name = os.getenv(\"COLUMN_3\")\n",
    "column_4_name = os.getenv(\"COLUMN_4\")\n",
    "column_5_name = os.getenv(\"COLUMN_5\")\n",
    "column_6_name = os.getenv(\"COLUMN_6\")\n",
    "column_7_name = os.getenv(\"COLUMN_7\")\n",
    "column_8_name = os.getenv(\"COLUMN_8\")\n",
    "\n",
    "list_remove = ['GEV','SOLV','VLTO','BF.B','BRK.B']\n",
    "\n",
    "class ListSAndP500:\n",
    "    def __init__(self):\n",
    "        \"\"\"\n",
    "        Initialize the ListSAndP500 class\n",
    "\n",
    "        Attributes:\n",
    "        tickers_string (list): A list of stock symbols in string format\n",
    "        tickers_list (list): A list of stock symbols in list format\n",
    "\n",
    "        \"\"\"\n",
    "        _tickers = pd.read_html('https://en.wikipedia.org/wiki/List_of_S%26P_500_companies')[0]\n",
    "        _tickers = _tickers.Symbol.to_list()\n",
    "        self.tickers_string = [i.replace('.','-') for i in _tickers]\n",
    "        _tickers_list_transform_ = [i if i not in list_remove else False for i in _tickers]\n",
    "        self.tickers_list = [i for i in _tickers_list_transform_ if i]\n",
    "        \n",
    "list_of_symbols__ = ListSAndP500().tickers_list\n",
    "\n",
    "class YahooFinance:\n",
    "    def __init__(self, list_of_symbols, start, end):\n",
    "        self.schema = StructType([\n",
    "            StructField(column_1_name, StringType(), True),\n",
    "            StructField(column_2_name, StringType(), True),\n",
    "            StructField(column_3_name, StringType(), True),\n",
    "            StructField(column_4_name, StringType(), True),\n",
    "            StructField(column_5_name, StringType(), True),\n",
    "            StructField(column_6_name, StringType(), True),\n",
    "            StructField(column_7_name, StringType(), True),\n",
    "            StructField(column_8_name, StringType(), True)\n",
    "        ])\n",
    "\n",
    "        self.symbols = list_of_symbols\n",
    "        self.interval = '1d'\n",
    "        self.start = start\n",
    "        self.end = end\n",
    "        self.results = self.process_data()\n",
    "\n",
    "    def process_data(self):\n",
    "        \"\"\"\n",
    "        Process the historical stock data for the stock symbols\n",
    "        \"\"\"\n",
    "        data = self.get_data()\n",
    "        return self.transform_data(data)\n",
    "\n",
    "    def get_data(self):\n",
    "        \"\"\"\n",
    "        Get historical stock data from Yahoo Finance API using yfinance library\n",
    "\n",
    "        Returns:\n",
    "        DataFrame: A DataFrame containing historical stock data\n",
    "        \"\"\"\n",
    "        try:\n",
    "            data = yf.download(\n",
    "                self.symbols,\n",
    "                start=self.start,\n",
    "                end=self.end,\n",
    "                interval=self.interval,\n",
    "                ignore_tz=True,\n",
    "                threads=5,\n",
    "                timeout=60,\n",
    "                progress=True\n",
    "            )\n",
    "            return data\n",
    "        except Exception as e:\n",
    "            print(f\"Error downloading data: {e}\")\n",
    "            return None\n",
    "\n",
    "    def transform_data(self, df):\n",
    "        \"\"\"\n",
    "        Transform the historical stock data into a format that can be stored in a database FactPrices table\n",
    "\n",
    "        Args:\n",
    "        df (DataFrame): A DataFrame containing historical stock data\n",
    "\n",
    "        Returns:\n",
    "        DataFrame: A DataFrame containing transformed historical stock data with the following columns:\n",
    "        - stock_id (str): The stock symbol\n",
    "        - date (str): The date of the stock data\n",
    "        - open (float): The opening price of the stock\n",
    "        - high (float): The highest price of the stock\n",
    "        - low (float): The lowest price of the stock\n",
    "        - close (float): The closing price of the stock\n",
    "        - volume (int): The volume of the stock\n",
    "        - adjusted_close (float): The adjusted closing price of the stock\n",
    "\n",
    "        \"\"\"\n",
    "        # Reset the index to turn the MultiIndex into columns\n",
    "        df = df.reset_index()\n",
    "\n",
    "        # Create a list to store transformed records\n",
    "        records = []\n",
    "\n",
    "        # Iterate over each row and stock symbol\n",
    "        for index, row in df.iterrows():\n",
    "            date = row[('Date', '')]\n",
    "            for stock in self.symbols:\n",
    "                try:\n",
    "                    record = {\n",
    "                        column_1_name: stock,\n",
    "                        column_2_name: date,\n",
    "                        column_3_name: row[('Open', stock)],\n",
    "                        column_4_name: row[('High', stock)],\n",
    "                        column_5_name: row[('Low', stock)],\n",
    "                        column_6_name: row[('Close', stock)],\n",
    "                        column_7_name: row[('Volume', stock)],\n",
    "                        column_8_name: row[('Adj Close', stock)]\n",
    "                    }\n",
    "                    records.append(record)\n",
    "                except KeyError as e:\n",
    "                    print(f\"KeyError: {e} for stock: {stock} on date: {date}\")\n",
    "\n",
    "        # Convert the list of records into a DataFrame\n",
    "        return pd.DataFrame(records)"
   ]
  },
  {
   "cell_type": "code",
   "execution_count": 6,
   "id": "7a0cd6a5-3629-42ae-886d-03e872242276",
   "metadata": {},
   "outputs": [
    {
     "name": "stderr",
     "output_type": "stream",
     "text": [
      "[*********************100%%**********************]  498 of 498 completed\n"
     ]
    },
    {
     "name": "stdout",
     "output_type": "stream",
     "text": [
      "  stock_id       date        open        high         low       close  \\\n",
      "0      MMM 2015-01-02  137.717392  138.026749  136.061874  137.173920   \n",
      "1      AOS 2015-01-02   28.309999   28.415001   27.775000   28.004999   \n",
      "2      ABT 2015-01-02   45.250000   45.450001   44.639999   44.900002   \n",
      "3     ABBV 2015-01-02   65.440002   66.400002   65.440002   65.889999   \n",
      "4      ACN 2015-01-02   89.669998   90.089996   88.430000   88.839996   \n",
      "\n",
      "      volume  adjusted_close  \n",
      "0  2531214.0       92.933624  \n",
      "1  1540200.0       24.154337  \n",
      "2  3216600.0       37.481434  \n",
      "3  5086100.0       44.314434  \n",
      "4  2021300.0       75.950920  \n"
     ]
    }
   ],
   "source": [
    "transformed_data = YahooFinance(list_of_symbols__, '2015-01-01', datetime.now().strftime('%Y-%m-%d')).results\n",
    "print(transformed_data.head())"
   ]
  },
  {
   "cell_type": "code",
   "execution_count": 7,
   "id": "e3613f13-de97-4dae-b6c7-2b7408806ec0",
   "metadata": {},
   "outputs": [
    {
     "data": {
      "text/plain": [
       "1184742"
      ]
     },
     "execution_count": 7,
     "metadata": {},
     "output_type": "execute_result"
    }
   ],
   "source": [
    "len(transformed_data)"
   ]
  },
  {
   "cell_type": "code",
   "execution_count": 49,
   "id": "94ecfc50-b102-4561-b691-51d14a717ad4",
   "metadata": {},
   "outputs": [
    {
     "data": {
      "text/html": [
       "<div>\n",
       "<style scoped>\n",
       "    .dataframe tbody tr th:only-of-type {\n",
       "        vertical-align: middle;\n",
       "    }\n",
       "\n",
       "    .dataframe tbody tr th {\n",
       "        vertical-align: top;\n",
       "    }\n",
       "\n",
       "    .dataframe thead th {\n",
       "        text-align: right;\n",
       "    }\n",
       "</style>\n",
       "<table border=\"1\" class=\"dataframe\">\n",
       "  <thead>\n",
       "    <tr style=\"text-align: right;\">\n",
       "      <th></th>\n",
       "      <th>stock_id</th>\n",
       "      <th>date</th>\n",
       "      <th>open</th>\n",
       "      <th>high</th>\n",
       "      <th>low</th>\n",
       "      <th>close</th>\n",
       "      <th>volume</th>\n",
       "      <th>adjusted_close</th>\n",
       "    </tr>\n",
       "  </thead>\n",
       "  <tbody>\n",
       "    <tr>\n",
       "      <th>0</th>\n",
       "      <td>MMM</td>\n",
       "      <td>2015-01-02</td>\n",
       "      <td>137.717392</td>\n",
       "      <td>138.026749</td>\n",
       "      <td>136.061874</td>\n",
       "      <td>137.173920</td>\n",
       "      <td>2531214.0</td>\n",
       "      <td>92.933624</td>\n",
       "    </tr>\n",
       "    <tr>\n",
       "      <th>498</th>\n",
       "      <td>MMM</td>\n",
       "      <td>2015-01-05</td>\n",
       "      <td>136.287628</td>\n",
       "      <td>136.822739</td>\n",
       "      <td>133.846161</td>\n",
       "      <td>134.080261</td>\n",
       "      <td>4416708.0</td>\n",
       "      <td>90.837677</td>\n",
       "    </tr>\n",
       "    <tr>\n",
       "      <th>996</th>\n",
       "      <td>MMM</td>\n",
       "      <td>2015-01-06</td>\n",
       "      <td>134.464890</td>\n",
       "      <td>134.924744</td>\n",
       "      <td>131.889633</td>\n",
       "      <td>132.650497</td>\n",
       "      <td>4224272.0</td>\n",
       "      <td>89.869041</td>\n",
       "    </tr>\n",
       "    <tr>\n",
       "      <th>1494</th>\n",
       "      <td>MMM</td>\n",
       "      <td>2015-01-07</td>\n",
       "      <td>133.695648</td>\n",
       "      <td>134.013382</td>\n",
       "      <td>132.892975</td>\n",
       "      <td>133.612045</td>\n",
       "      <td>3685235.0</td>\n",
       "      <td>90.520477</td>\n",
       "    </tr>\n",
       "    <tr>\n",
       "      <th>1992</th>\n",
       "      <td>MMM</td>\n",
       "      <td>2015-01-08</td>\n",
       "      <td>134.322739</td>\n",
       "      <td>136.864548</td>\n",
       "      <td>134.214050</td>\n",
       "      <td>136.814377</td>\n",
       "      <td>3758908.0</td>\n",
       "      <td>92.689987</td>\n",
       "    </tr>\n",
       "    <tr>\n",
       "      <th>...</th>\n",
       "      <td>...</td>\n",
       "      <td>...</td>\n",
       "      <td>...</td>\n",
       "      <td>...</td>\n",
       "      <td>...</td>\n",
       "      <td>...</td>\n",
       "      <td>...</td>\n",
       "      <td>...</td>\n",
       "    </tr>\n",
       "    <tr>\n",
       "      <th>1182252</th>\n",
       "      <td>MMM</td>\n",
       "      <td>2024-06-10</td>\n",
       "      <td>100.430000</td>\n",
       "      <td>101.839996</td>\n",
       "      <td>100.279999</td>\n",
       "      <td>100.660004</td>\n",
       "      <td>3507600.0</td>\n",
       "      <td>100.660004</td>\n",
       "    </tr>\n",
       "    <tr>\n",
       "      <th>1182750</th>\n",
       "      <td>MMM</td>\n",
       "      <td>2024-06-11</td>\n",
       "      <td>100.099998</td>\n",
       "      <td>101.470001</td>\n",
       "      <td>99.230003</td>\n",
       "      <td>101.320000</td>\n",
       "      <td>2831500.0</td>\n",
       "      <td>101.320000</td>\n",
       "    </tr>\n",
       "    <tr>\n",
       "      <th>1183248</th>\n",
       "      <td>MMM</td>\n",
       "      <td>2024-06-12</td>\n",
       "      <td>102.620003</td>\n",
       "      <td>103.680000</td>\n",
       "      <td>100.760002</td>\n",
       "      <td>101.209999</td>\n",
       "      <td>3704600.0</td>\n",
       "      <td>101.209999</td>\n",
       "    </tr>\n",
       "    <tr>\n",
       "      <th>1183746</th>\n",
       "      <td>MMM</td>\n",
       "      <td>2024-06-13</td>\n",
       "      <td>102.019997</td>\n",
       "      <td>102.800003</td>\n",
       "      <td>100.739998</td>\n",
       "      <td>101.540001</td>\n",
       "      <td>5034700.0</td>\n",
       "      <td>101.540001</td>\n",
       "    </tr>\n",
       "    <tr>\n",
       "      <th>1184244</th>\n",
       "      <td>MMM</td>\n",
       "      <td>2024-06-14</td>\n",
       "      <td>100.500000</td>\n",
       "      <td>101.419998</td>\n",
       "      <td>99.309998</td>\n",
       "      <td>100.900002</td>\n",
       "      <td>2685000.0</td>\n",
       "      <td>100.900002</td>\n",
       "    </tr>\n",
       "  </tbody>\n",
       "</table>\n",
       "<p>2379 rows × 8 columns</p>\n",
       "</div>"
      ],
      "text/plain": [
       "        stock_id       date        open        high         low       close  \\\n",
       "0            MMM 2015-01-02  137.717392  138.026749  136.061874  137.173920   \n",
       "498          MMM 2015-01-05  136.287628  136.822739  133.846161  134.080261   \n",
       "996          MMM 2015-01-06  134.464890  134.924744  131.889633  132.650497   \n",
       "1494         MMM 2015-01-07  133.695648  134.013382  132.892975  133.612045   \n",
       "1992         MMM 2015-01-08  134.322739  136.864548  134.214050  136.814377   \n",
       "...          ...        ...         ...         ...         ...         ...   \n",
       "1182252      MMM 2024-06-10  100.430000  101.839996  100.279999  100.660004   \n",
       "1182750      MMM 2024-06-11  100.099998  101.470001   99.230003  101.320000   \n",
       "1183248      MMM 2024-06-12  102.620003  103.680000  100.760002  101.209999   \n",
       "1183746      MMM 2024-06-13  102.019997  102.800003  100.739998  101.540001   \n",
       "1184244      MMM 2024-06-14  100.500000  101.419998   99.309998  100.900002   \n",
       "\n",
       "            volume  adjusted_close  \n",
       "0        2531214.0       92.933624  \n",
       "498      4416708.0       90.837677  \n",
       "996      4224272.0       89.869041  \n",
       "1494     3685235.0       90.520477  \n",
       "1992     3758908.0       92.689987  \n",
       "...            ...             ...  \n",
       "1182252  3507600.0      100.660004  \n",
       "1182750  2831500.0      101.320000  \n",
       "1183248  3704600.0      101.209999  \n",
       "1183746  5034700.0      101.540001  \n",
       "1184244  2685000.0      100.900002  \n",
       "\n",
       "[2379 rows x 8 columns]"
      ]
     },
     "execution_count": 49,
     "metadata": {},
     "output_type": "execute_result"
    }
   ],
   "source": [
    "filtered_data = transformed_data[transformed_data['stock_id'] == list_of_symbols__[0]]\n",
    "filtered_data"
   ]
  },
  {
   "cell_type": "code",
   "execution_count": 40,
   "id": "bd7367a7-8c9f-4a71-832b-26e0b3d469b2",
   "metadata": {},
   "outputs": [],
   "source": [
    "unique_dates = pd.DatetimeIndex(transformed_data['date'].unique())"
   ]
  },
  {
   "cell_type": "code",
   "execution_count": 46,
   "id": "1f3edde9-b968-47d2-8ad3-bf08f9f3870e",
   "metadata": {},
   "outputs": [
    {
     "name": "stdout",
     "output_type": "stream",
     "text": [
      "1075\n",
      "   missing_dates\n",
      "0     2015-01-01\n",
      "1     2015-01-03\n",
      "2     2015-01-04\n",
      "3     2015-01-10\n",
      "4     2015-01-11\n",
      "5     2015-01-17\n",
      "6     2015-01-18\n",
      "7     2015-01-19\n",
      "8     2015-01-24\n",
      "9     2015-01-25\n",
      "10    2015-01-31\n",
      "11    2015-02-01\n",
      "12    2015-02-07\n",
      "13    2015-02-08\n",
      "14    2015-02-14\n",
      "15    2015-02-15\n",
      "16    2015-02-16\n",
      "17    2015-02-21\n",
      "18    2015-02-22\n",
      "19    2015-02-28\n",
      "3454\n"
     ]
    }
   ],
   "source": [
    "complete_dates = pd.date_range(start='2015-01-01', end=datetime.now().strftime('%Y-%m-%d'))\n",
    "\n",
    "missing_dates = complete_dates.difference(unique_dates)\n",
    "\n",
    "# Convert missing dates to a DataFrame for display\n",
    "missing_dates_df = pd.DataFrame(missing_dates, columns=['missing_dates'])\n",
    "\n",
    "print(len(missing_dates_df))\n",
    "print(missing_dates_df.head(20))\n",
    "print(len(complete_dates))"
   ]
  },
  {
   "cell_type": "code",
   "execution_count": 47,
   "id": "4b32d672-8b27-455a-a6f9-91b508244571",
   "metadata": {},
   "outputs": [
    {
     "name": "stderr",
     "output_type": "stream",
     "text": [
      "[*                      2%%                      ]  9 of 498 completed"
     ]
    },
    {
     "name": "stdout",
     "output_type": "stream",
     "text": [
      "$TYL: possibly delisted; No price data found  (1d 2015-01-01 -> 2015-01-01)\n",
      "$NFLX: possibly delisted; No price data found  (1d 2015-01-01 -> 2015-01-01)\n",
      "$PODD: possibly delisted; No price data found  (1d 2015-01-01 -> 2015-01-01)\n",
      "$SLB: possibly delisted; No price data found  (1d 2015-01-01 -> 2015-01-01)\n",
      "$EMN: possibly delisted; No price data found  (1d 2015-01-01 -> 2015-01-01)\n",
      "$PH: possibly delisted; No price data found  (1d 2015-01-01 -> 2015-01-01)\n",
      "$AJG: possibly delisted; No price data found  (1d 2015-01-01 -> 2015-01-01)\n",
      "$AVY: possibly delisted; No price data found  (1d 2015-01-01 -> 2015-01-01)\n",
      "$ALL: possibly delisted; No price data found  (1d 2015-01-01 -> 2015-01-01)\n",
      "$NEE: possibly delisted; No price data found  (1d 2015-01-01 -> 2015-01-01)\n"
     ]
    },
    {
     "name": "stderr",
     "output_type": "stream",
     "text": [
      "[***                    7%%                      ]  33 of 498 completed"
     ]
    },
    {
     "name": "stdout",
     "output_type": "stream",
     "text": [
      "$KEYS: possibly delisted; No price data found  (1d 2015-01-01 -> 2015-01-01)\n",
      "$AMT: possibly delisted; No price data found  (1d 2015-01-01 -> 2015-01-01)\n",
      "$CBRE: possibly delisted; No price data found  (1d 2015-01-01 -> 2015-01-01)\n",
      "$AVGO: possibly delisted; No price data found  (1d 2015-01-01 -> 2015-01-01)\n",
      "$GPN: possibly delisted; No price data found  (1d 2015-01-01 -> 2015-01-01)\n",
      "$DHI: possibly delisted; No price data found  (1d 2015-01-01 -> 2015-01-01)\n",
      "$ES: possibly delisted; No price data found  (1d 2015-01-01 -> 2015-01-01)\n",
      "$VRSK: possibly delisted; No price data found  (1d 2015-01-01 -> 2015-01-01)\n",
      "$COP: possibly delisted; No price data found  (1d 2015-01-01 -> 2015-01-01)\n",
      "$INCY: possibly delisted; No price data found  (1d 2015-01-01 -> 2015-01-01)\n",
      "$STT: possibly delisted; No price data found  (1d 2015-01-01 -> 2015-01-01)\n",
      "$LEN: possibly delisted; No price data found  (1d 2015-01-01 -> 2015-01-01)\n",
      "$ADM: possibly delisted; No price data found  (1d 2015-01-01 -> 2015-01-01)\n",
      "$REG: possibly delisted; No price data found  (1d 2015-01-01 -> 2015-01-01)\n",
      "$BEN: possibly delisted; No price data found  (1d 2015-01-01 -> 2015-01-01)\n",
      "$HRL: possibly delisted; No price data found  (1d 2015-01-01 -> 2015-01-01)\n",
      "$FAST: possibly delisted; No price data found  (1d 2015-01-01 -> 2015-01-01)\n",
      "$NRG: possibly delisted; No price data found  (1d 2015-01-01 -> 2015-01-01)\n",
      "$TGT: possibly delisted; No price data found  (1d 2015-01-01 -> 2015-01-01)\n",
      "$CHD: possibly delisted; No price data found  (1d 2015-01-01 -> 2015-01-01)\n",
      "$MHK: possibly delisted; No price data found  (1d 2015-01-01 -> 2015-01-01)\n",
      "$KIM: possibly delisted; No price data found  (1d 2015-01-01 -> 2015-01-01)\n"
     ]
    },
    {
     "name": "stderr",
     "output_type": "stream",
     "text": [
      "[*****                 10%%                      ]  48 of 498 completed"
     ]
    },
    {
     "name": "stdout",
     "output_type": "stream",
     "text": [
      "$NVR: possibly delisted; No price data found  (1d 2015-01-01 -> 2015-01-01)\n",
      "$CRL: possibly delisted; No price data found  (1d 2015-01-01 -> 2015-01-01)\n",
      "$CMS: possibly delisted; No price data found  (1d 2015-01-01 -> 2015-01-01)\n",
      "$LOW: possibly delisted; No price data found  (1d 2015-01-01 -> 2015-01-01)\n",
      "$MMM: possibly delisted; No price data found  (1d 2015-01-01 -> 2015-01-01)\n",
      "$IT: possibly delisted; No price data found  (1d 2015-01-01 -> 2015-01-01)\n",
      "$SJM: possibly delisted; No price data found  (1d 2015-01-01 -> 2015-01-01)\n",
      "$DLR: possibly delisted; No price data found  (1d 2015-01-01 -> 2015-01-01)\n",
      "$WEC: possibly delisted; No price data found  (1d 2015-01-01 -> 2015-01-01)\n",
      "$BALL: possibly delisted; No price data found  (1d 2015-01-01 -> 2015-01-01)\n",
      "$ECL: possibly delisted; No price data found  (1d 2015-01-01 -> 2015-01-01)\n",
      "$SPGI: possibly delisted; No price data found  (1d 2015-01-01 -> 2015-01-01)\n",
      "$SYK: possibly delisted; No price data found  (1d 2015-01-01 -> 2015-01-01)\n",
      "$APD: possibly delisted; No price data found  (1d 2015-01-01 -> 2015-01-01)\n",
      "$SNA: possibly delisted; No price data found  (1d 2015-01-01 -> 2015-01-01)\n"
     ]
    },
    {
     "name": "stderr",
     "output_type": "stream",
     "text": [
      "[******                12%%                      ]  60 of 498 completed"
     ]
    },
    {
     "name": "stdout",
     "output_type": "stream",
     "text": [
      "$CHTR: possibly delisted; No price data found  (1d 2015-01-01 -> 2015-01-01)\n",
      "$TSCO: possibly delisted; No price data found  (1d 2015-01-01 -> 2015-01-01)\n",
      "$VLO: possibly delisted; No price data found  (1d 2015-01-01 -> 2015-01-01)\n",
      "$ADI: possibly delisted; No price data found  (1d 2015-01-01 -> 2015-01-01)\n",
      "$SMCI: possibly delisted; No price data found  (1d 2015-01-01 -> 2015-01-01)\n",
      "$TPR: possibly delisted; No price data found  (1d 2015-01-01 -> 2015-01-01)\n",
      "$WY: possibly delisted; No price data found  (1d 2015-01-01 -> 2015-01-01)\n",
      "$PHM: possibly delisted; No price data found  (1d 2015-01-01 -> 2015-01-01)\n",
      "$KLAC: possibly delisted; No price data found  (1d 2015-01-01 -> 2015-01-01)\n",
      "$BWA: possibly delisted; No price data found  (1d 2015-01-01 -> 2015-01-01)\n"
     ]
    },
    {
     "name": "stderr",
     "output_type": "stream",
     "text": [
      "[********              17%%                      ]  83 of 498 completed"
     ]
    },
    {
     "name": "stdout",
     "output_type": "stream",
     "text": [
      "$ISRG: possibly delisted; No price data found  (1d 2015-01-01 -> 2015-01-01)\n",
      "$MKTX: possibly delisted; No price data found  (1d 2015-01-01 -> 2015-01-01)\n",
      "$ABBV: possibly delisted; No price data found  (1d 2015-01-01 -> 2015-01-01)\n",
      "$TMO: possibly delisted; No price data found  (1d 2015-01-01 -> 2015-01-01)\n",
      "$MCHP: possibly delisted; No price data found  (1d 2015-01-01 -> 2015-01-01)\n",
      "$SWK: possibly delisted; No price data found  (1d 2015-01-01 -> 2015-01-01)\n",
      "$DD: possibly delisted; No price data found  (1d 2015-01-01 -> 2015-01-01)\n",
      "$DVA: possibly delisted; No price data found  (1d 2015-01-01 -> 2015-01-01)\n",
      "$IEX: possibly delisted; No price data found  (1d 2015-01-01 -> 2015-01-01)\n",
      "$SBUX: possibly delisted; No price data found  (1d 2015-01-01 -> 2015-01-01)\n",
      "$HIG: possibly delisted; No price data found  (1d 2015-01-01 -> 2015-01-01)\n",
      "$MPC: possibly delisted; No price data found  (1d 2015-01-01 -> 2015-01-01)\n",
      "$APH: possibly delisted; No price data found  (1d 2015-01-01 -> 2015-01-01)\n",
      "$DE: possibly delisted; No price data found  (1d 2015-01-01 -> 2015-01-01)\n",
      "$JCI: possibly delisted; No price data found  (1d 2015-01-01 -> 2015-01-01)\n",
      "$KO: possibly delisted; No price data found  (1d 2015-01-01 -> 2015-01-01)\n",
      "$LH: possibly delisted; No price data found  (1d 2015-01-01 -> 2015-01-01)\n",
      "$BAX: possibly delisted; No price data found  (1d 2015-01-01 -> 2015-01-01)\n",
      "$MAS: possibly delisted; No price data found  (1d 2015-01-01 -> 2015-01-01)\n",
      "$CDNS: possibly delisted; No price data found  (1d 2015-01-01 -> 2015-01-01)\n"
     ]
    },
    {
     "name": "stderr",
     "output_type": "stream",
     "text": [
      "[**********            20%%                      ]  102 of 498 completed"
     ]
    },
    {
     "name": "stdout",
     "output_type": "stream",
     "text": [
      "$MET: possibly delisted; No price data found  (1d 2015-01-01 -> 2015-01-01)\n",
      "$CSGP: possibly delisted; No price data found  (1d 2015-01-01 -> 2015-01-01)\n",
      "$CMI: possibly delisted; No price data found  (1d 2015-01-01 -> 2015-01-01)\n",
      "$MCK: possibly delisted; No price data found  (1d 2015-01-01 -> 2015-01-01)\n",
      "$BKR: possibly delisted; No price data found  (1d 2015-01-01 -> 2015-01-01)\n",
      "$NOW: possibly delisted; No price data found  (1d 2015-01-01 -> 2015-01-01)\n",
      "$RCL: possibly delisted; No price data found  (1d 2015-01-01 -> 2015-01-01)\n",
      "$AIZ: possibly delisted; No price data found  (1d 2015-01-01 -> 2015-01-01)\n",
      "$PAYC: possibly delisted; No price data found  (1d 2015-01-01 -> 2015-01-01)\n",
      "$ILMN: possibly delisted; No price data found  (1d 2015-01-01 -> 2015-01-01)\n",
      "$HAS: possibly delisted; No price data found  (1d 2015-01-01 -> 2015-01-01)\n",
      "$AFL: possibly delisted; No price data found  (1d 2015-01-01 -> 2015-01-01)\n",
      "$ROP: possibly delisted; No price data found  (1d 2015-01-01 -> 2015-01-01)\n",
      "$MKC: possibly delisted; No price data found  (1d 2015-01-01 -> 2015-01-01)\n",
      "$MGM: possibly delisted; No price data found  (1d 2015-01-01 -> 2015-01-01)\n",
      "$IFF: possibly delisted; No price data found  (1d 2015-01-01 -> 2015-01-01)\n",
      "$AES: possibly delisted; No price data found  (1d 2015-01-01 -> 2015-01-01)\n",
      "$RL: possibly delisted; No price data found  (1d 2015-01-01 -> 2015-01-01)\n",
      "$IBM: possibly delisted; No price data found  (1d 2015-01-01 -> 2015-01-01)\n"
     ]
    },
    {
     "name": "stderr",
     "output_type": "stream",
     "text": [
      "[**********            21%%                      ]  106 of 498 completed"
     ]
    },
    {
     "name": "stdout",
     "output_type": "stream",
     "text": [
      "$TXN: possibly delisted; No price data found  (1d 2015-01-01 -> 2015-01-01)\n",
      "$BX: possibly delisted; No price data found  (1d 2015-01-01 -> 2015-01-01)\n",
      "$BDX: possibly delisted; No price data found  (1d 2015-01-01 -> 2015-01-01)\n",
      "$SRE: possibly delisted; No price data found  (1d 2015-01-01 -> 2015-01-01)\n"
     ]
    },
    {
     "name": "stderr",
     "output_type": "stream",
     "text": [
      "[************          24%%                      ]  118 of 498 completed"
     ]
    },
    {
     "name": "stdout",
     "output_type": "stream",
     "text": [
      "$GOOGL: possibly delisted; No price data found  (1d 2015-01-01 -> 2015-01-01)\n",
      "$PANW: possibly delisted; No price data found  (1d 2015-01-01 -> 2015-01-01)\n",
      "$WBD: possibly delisted; No price data found  (1d 2015-01-01 -> 2015-01-01)\n",
      "$VTR: possibly delisted; No price data found  (1d 2015-01-01 -> 2015-01-01)\n",
      "$MA: possibly delisted; No price data found  (1d 2015-01-01 -> 2015-01-01)\n",
      "$AKAM: possibly delisted; No price data found  (1d 2015-01-01 -> 2015-01-01)\n",
      "$WST: possibly delisted; No price data found  (1d 2015-01-01 -> 2015-01-01)\n",
      "$KDP: possibly delisted; No price data found  (1d 2015-01-01 -> 2015-01-01)\n",
      "$DUK: possibly delisted; No price data found  (1d 2015-01-01 -> 2015-01-01)\n",
      "$BG: possibly delisted; No price data found  (1d 2015-01-01 -> 2015-01-01)\n",
      "$LLY: possibly delisted; No price data found  (1d 2015-01-01 -> 2015-01-01)\n"
     ]
    },
    {
     "name": "stderr",
     "output_type": "stream",
     "text": [
      "[************          24%%                      ]  119 of 498 completed"
     ]
    },
    {
     "name": "stdout",
     "output_type": "stream",
     "text": [
      "$WFC: possibly delisted; No price data found  (1d 2015-01-01 -> 2015-01-01)\n"
     ]
    },
    {
     "name": "stderr",
     "output_type": "stream",
     "text": [
      "[************          26%%                      ]  131 of 498 completed"
     ]
    },
    {
     "name": "stdout",
     "output_type": "stream",
     "text": [
      "$ORLY: possibly delisted; No price data found  (1d 2015-01-01 -> 2015-01-01)\n",
      "$LVS: possibly delisted; No price data found  (1d 2015-01-01 -> 2015-01-01)\n",
      "$GOOG: possibly delisted; No price data found  (1d 2015-01-01 -> 2015-01-01)\n",
      "$HLT: possibly delisted; No price data found  (1d 2015-01-01 -> 2015-01-01)\n",
      "$HCA: possibly delisted; No price data found  (1d 2015-01-01 -> 2015-01-01)\n",
      "$ELV: possibly delisted; No price data found  (1d 2015-01-01 -> 2015-01-01)\n",
      "$PG: possibly delisted; No price data found  (1d 2015-01-01 -> 2015-01-01)\n",
      "$MCO: possibly delisted; No price data found  (1d 2015-01-01 -> 2015-01-01)\n",
      "$GIS: possibly delisted; No price data found  (1d 2015-01-01 -> 2015-01-01)\n",
      "$DG: possibly delisted; No price data found  (1d 2015-01-01 -> 2015-01-01)\n",
      "$IP: possibly delisted; No price data found  (1d 2015-01-01 -> 2015-01-01)\n"
     ]
    },
    {
     "name": "stderr",
     "output_type": "stream",
     "text": [
      "[**************        29%%                      ]  143 of 498 completed"
     ]
    },
    {
     "name": "stdout",
     "output_type": "stream",
     "text": [
      "$WYNN: possibly delisted; No price data found  (1d 2015-01-01 -> 2015-01-01)\n",
      "$NOC: possibly delisted; No price data found  (1d 2015-01-01 -> 2015-01-01)\n",
      "$EVRG: possibly delisted; No price data found  (1d 2015-01-01 -> 2015-01-01)\n",
      "$INTU: possibly delisted; No price data found  (1d 2015-01-01 -> 2015-01-01)\n",
      "$F: possibly delisted; No price data found  (1d 2015-01-01 -> 2015-01-01)\n",
      "$VTRS: possibly delisted; No price data found  (1d 2015-01-01 -> 2015-01-01)\n",
      "$GLW: possibly delisted; No price data found  (1d 2015-01-01 -> 2015-01-01)\n",
      "$CAG: possibly delisted; No price data found  (1d 2015-01-01 -> 2015-01-01)\n",
      "$CSX: possibly delisted; No price data found  (1d 2015-01-01 -> 2015-01-01)\n",
      "$XOM: possibly delisted; No price data found  (1d 2015-01-01 -> 2015-01-01)\n",
      "$ULTA: possibly delisted; No price data found  (1d 2015-01-01 -> 2015-01-01)\n"
     ]
    },
    {
     "name": "stderr",
     "output_type": "stream",
     "text": [
      "[**************        29%%                      ]  144 of 498 completed"
     ]
    },
    {
     "name": "stdout",
     "output_type": "stream",
     "text": [
      "$NWS: possibly delisted; No price data found  (1d 2015-01-01 -> 2015-01-01)\n"
     ]
    },
    {
     "name": "stderr",
     "output_type": "stream",
     "text": [
      "[***************       31%%                      ]  152 of 498 completed"
     ]
    },
    {
     "name": "stdout",
     "output_type": "stream",
     "text": [
      "$TTWO: possibly delisted; No price data found  (1d 2015-01-01 -> 2015-01-01)\n",
      "$SBAC: possibly delisted; No price data found  (1d 2015-01-01 -> 2015-01-01)\n",
      "$GRMN: possibly delisted; No price data found  (1d 2015-01-01 -> 2015-01-01)\n",
      "$WMB: possibly delisted; No price data found  (1d 2015-01-01 -> 2015-01-01)\n",
      "$BMY: possibly delisted; No price data found  (1d 2015-01-01 -> 2015-01-01)\n",
      "$DFS: possibly delisted; No price data found  (1d 2015-01-01 -> 2015-01-01)\n",
      "$KMB: possibly delisted; No price data found  (1d 2015-01-01 -> 2015-01-01)\n",
      "$EOG: possibly delisted; No price data found  (1d 2015-01-01 -> 2015-01-01)\n"
     ]
    },
    {
     "name": "stderr",
     "output_type": "stream",
     "text": [
      "[***************       31%%                      ]  155 of 498 completed"
     ]
    },
    {
     "name": "stdout",
     "output_type": "stream",
     "text": [
      "$FE: possibly delisted; No price data found  (1d 2015-01-01 -> 2015-01-01)\n",
      "$RJF: possibly delisted; No price data found  (1d 2015-01-01 -> 2015-01-01)\n"
     ]
    },
    {
     "name": "stderr",
     "output_type": "stream",
     "text": [
      "[*****************     35%%                      ]  176 of 498 completed"
     ]
    },
    {
     "name": "stdout",
     "output_type": "stream",
     "text": [
      "$MOH: possibly delisted; No price data found  (1d 2015-01-01 -> 2015-01-01)\n",
      "$FANG: possibly delisted; No price data found  (1d 2015-01-01 -> 2015-01-01)\n",
      "$HST: possibly delisted; No price data found  (1d 2015-01-01 -> 2015-01-01)\n",
      "$WM: possibly delisted; No price data found  (1d 2015-01-01 -> 2015-01-01)\n",
      "$AXON: possibly delisted; No price data found  (1d 2015-01-01 -> 2015-01-01)\n",
      "$WMT: possibly delisted; No price data found  (1d 2015-01-01 -> 2015-01-01)\n",
      "$RF: possibly delisted; No price data found  (1d 2015-01-01 -> 2015-01-01)\n",
      "$PNW: possibly delisted; No price data found  (1d 2015-01-01 -> 2015-01-01)\n",
      "$HOLX: possibly delisted; No price data found  (1d 2015-01-01 -> 2015-01-01)\n",
      "$CF: possibly delisted; No price data found  (1d 2015-01-01 -> 2015-01-01)\n",
      "$BA: possibly delisted; No price data found  (1d 2015-01-01 -> 2015-01-01)\n",
      "$CAT: possibly delisted; No price data found  (1d 2015-01-01 -> 2015-01-01)\n",
      "$SWKS: possibly delisted; No price data found  (1d 2015-01-01 -> 2015-01-01)\n",
      "$KEY: possibly delisted; No price data found  (1d 2015-01-01 -> 2015-01-01)\n",
      "$JNPR: possibly delisted; No price data found  (1d 2015-01-01 -> 2015-01-01)\n",
      "$ZTS: possibly delisted; No price data found  (1d 2015-01-01 -> 2015-01-01)\n",
      "$JKHY: possibly delisted; No price data found  (1d 2015-01-01 -> 2015-01-01)\n",
      "$ACGL: possibly delisted; No price data found  (1d 2015-01-01 -> 2015-01-01)\n",
      "$TRV: possibly delisted; No price data found  (1d 2015-01-01 -> 2015-01-01)\n",
      "$ON: possibly delisted; No price data found  (1d 2015-01-01 -> 2015-01-01)\n",
      "$SHW: possibly delisted; No price data found  (1d 2015-01-01 -> 2015-01-01)\n"
     ]
    },
    {
     "name": "stderr",
     "output_type": "stream",
     "text": [
      "[*******************   40%%                      ]  197 of 498 completed"
     ]
    },
    {
     "name": "stdout",
     "output_type": "stream",
     "text": [
      "$MTCH: possibly delisted; No price data found  (1d 2015-01-01 -> 2015-01-01)\n",
      "$CSCO: possibly delisted; No price data found  (1d 2015-01-01 -> 2015-01-01)\n",
      "$EXPD: possibly delisted; No price data found  (1d 2015-01-01 -> 2015-01-01)\n",
      "$BRO: possibly delisted; No price data found  (1d 2015-01-01 -> 2015-01-01)\n",
      "$CHRW: possibly delisted; No price data found  (1d 2015-01-01 -> 2015-01-01)\n",
      "$SYF: possibly delisted; No price data found  (1d 2015-01-01 -> 2015-01-01)\n",
      "$MRO: possibly delisted; No price data found  (1d 2015-01-01 -> 2015-01-01)\n",
      "$NDAQ: possibly delisted; No price data found  (1d 2015-01-01 -> 2015-01-01)\n",
      "$RVTY: possibly delisted; No price data found  (1d 2015-01-01 -> 2015-01-01)\n",
      "$ALGN: possibly delisted; No price data found  (1d 2015-01-01 -> 2015-01-01)\n",
      "$MOS: possibly delisted; No price data found  (1d 2015-01-01 -> 2015-01-01)\n",
      "$DPZ: possibly delisted; No price data found  (1d 2015-01-01 -> 2015-01-01)\n",
      "$TFX: possibly delisted; No price data found  (1d 2015-01-01 -> 2015-01-01)\n",
      "$AVB: possibly delisted; No price data found  (1d 2015-01-01 -> 2015-01-01)\n",
      "$NEM: possibly delisted; No price data found  (1d 2015-01-01 -> 2015-01-01)\n",
      "$EQR: possibly delisted; No price data found  (1d 2015-01-01 -> 2015-01-01)\n",
      "$AME: possibly delisted; No price data found  (1d 2015-01-01 -> 2015-01-01)\n",
      "$ATO: possibly delisted; No price data found  (1d 2015-01-01 -> 2015-01-01)\n",
      "$EL: possibly delisted; No price data found  (1d 2015-01-01 -> 2015-01-01)\n",
      "$PFE: possibly delisted; No price data found  (1d 2015-01-01 -> 2015-01-01)\n"
     ]
    },
    {
     "name": "stderr",
     "output_type": "stream",
     "text": [
      "[********************* 43%%                      ]  216 of 498 completed"
     ]
    },
    {
     "name": "stdout",
     "output_type": "stream",
     "text": [
      "$ADSK: possibly delisted; No price data found  (1d 2015-01-01 -> 2015-01-01)\n",
      "$APTV: possibly delisted; No price data found  (1d 2015-01-01 -> 2015-01-01)\n",
      "$EG: possibly delisted; No price data found  (1d 2015-01-01 -> 2015-01-01)\n",
      "$PPG: possibly delisted; No price data found  (1d 2015-01-01 -> 2015-01-01)\n",
      "$AXP: possibly delisted; No price data found  (1d 2015-01-01 -> 2015-01-01)\n",
      "$NDSN: possibly delisted; No price data found  (1d 2015-01-01 -> 2015-01-01)\n",
      "$ADP: possibly delisted; No price data found  (1d 2015-01-01 -> 2015-01-01)\n",
      "$RSG: possibly delisted; No price data found  (1d 2015-01-01 -> 2015-01-01)\n",
      "$IRM: possibly delisted; No price data found  (1d 2015-01-01 -> 2015-01-01)\n",
      "$DTE: possibly delisted; No price data found  (1d 2015-01-01 -> 2015-01-01)\n",
      "$GS: possibly delisted; No price data found  (1d 2015-01-01 -> 2015-01-01)\n",
      "$CPAY: possibly delisted; No price data found  (1d 2015-01-01 -> 2015-01-01)\n",
      "$OKE: possibly delisted; No price data found  (1d 2015-01-01 -> 2015-01-01)\n",
      "$BIO: possibly delisted; No price data found  (1d 2015-01-01 -> 2015-01-01)\n",
      "$WDC: possibly delisted; No price data found  (1d 2015-01-01 -> 2015-01-01)\n",
      "$USB: possibly delisted; No price data found  (1d 2015-01-01 -> 2015-01-01)\n",
      "$PEG: possibly delisted; No price data found  (1d 2015-01-01 -> 2015-01-01)\n",
      "$UNP: possibly delisted; No price data found  (1d 2015-01-01 -> 2015-01-01)\n"
     ]
    },
    {
     "name": "stderr",
     "output_type": "stream",
     "text": [
      "[**********************47%%                      ]  232 of 498 completed"
     ]
    },
    {
     "name": "stdout",
     "output_type": "stream",
     "text": [
      "$CPRT: possibly delisted; No price data found  (1d 2015-01-01 -> 2015-01-01)\n",
      "$TSLA: possibly delisted; No price data found  (1d 2015-01-01 -> 2015-01-01)\n",
      "$META: possibly delisted; No price data found  (1d 2015-01-01 -> 2015-01-01)\n",
      "$GNRC: possibly delisted; No price data found  (1d 2015-01-01 -> 2015-01-01)\n",
      "$EA: possibly delisted; No price data found  (1d 2015-01-01 -> 2015-01-01)\n",
      "$CTSH: possibly delisted; No price data found  (1d 2015-01-01 -> 2015-01-01)\n",
      "$NXPI: possibly delisted; No price data found  (1d 2015-01-01 -> 2015-01-01)\n",
      "$PRU: possibly delisted; No price data found  (1d 2015-01-01 -> 2015-01-01)\n",
      "$V: possibly delisted; No price data found  (1d 2015-01-01 -> 2015-01-01)\n",
      "$TFC: possibly delisted; No price data found  (1d 2015-01-01 -> 2015-01-01)\n",
      "$CFG: possibly delisted; No price data found  (1d 2015-01-01 -> 2015-01-01)\n",
      "$CCL: possibly delisted; No price data found  (1d 2015-01-01 -> 2015-01-01)\n",
      "$TJX: possibly delisted; No price data found  (1d 2015-01-01 -> 2015-01-01)\n",
      "$FDS: possibly delisted; No price data found  (1d 2015-01-01 -> 2015-01-01)\n",
      "$TMUS: possibly delisted; No price data found  (1d 2015-01-01 -> 2015-01-01)\n"
     ]
    },
    {
     "name": "stderr",
     "output_type": "stream",
     "text": [
      "[**********************51%%                      ]  252 of 498 completed"
     ]
    },
    {
     "name": "stdout",
     "output_type": "stream",
     "text": [
      "$CCI: possibly delisted; No price data found  (1d 2015-01-01 -> 2015-01-01)\n",
      "$J: possibly delisted; No price data found  (1d 2015-01-01 -> 2015-01-01)\n",
      "$ALLE: possibly delisted; No price data found  (1d 2015-01-01 -> 2015-01-01)\n",
      "$EFX: possibly delisted; No price data found  (1d 2015-01-01 -> 2015-01-01)\n",
      "$FSLR: possibly delisted; No price data found  (1d 2015-01-01 -> 2015-01-01)\n",
      "$PGR: possibly delisted; No price data found  (1d 2015-01-01 -> 2015-01-01)\n",
      "$EIX: possibly delisted; No price data found  (1d 2015-01-01 -> 2015-01-01)\n",
      "$GE: possibly delisted; No price data found  (1d 2015-01-01 -> 2015-01-01)\n",
      "$REGN: possibly delisted; No price data found  (1d 2015-01-01 -> 2015-01-01)\n",
      "$D: possibly delisted; No price data found  (1d 2015-01-01 -> 2015-01-01)\n",
      "$KR: possibly delisted; No price data found  (1d 2015-01-01 -> 2015-01-01)\n",
      "$IPG: possibly delisted; No price data found  (1d 2015-01-01 -> 2015-01-01)\n",
      "$OXY: possibly delisted; No price data found  (1d 2015-01-01 -> 2015-01-01)\n",
      "$JBHT: possibly delisted; No price data found  (1d 2015-01-01 -> 2015-01-01)\n",
      "$FIS: possibly delisted; No price data found  (1d 2015-01-01 -> 2015-01-01)\n",
      "$GL: possibly delisted; No price data found  (1d 2015-01-01 -> 2015-01-01)\n",
      "$STX: possibly delisted; No price data found  (1d 2015-01-01 -> 2015-01-01)\n",
      "$VRTX: possibly delisted; No price data found  (1d 2015-01-01 -> 2015-01-01)\n",
      "$HAL: possibly delisted; No price data found  (1d 2015-01-01 -> 2015-01-01)\n",
      "$CVS: possibly delisted; No price data found  (1d 2015-01-01 -> 2015-01-01)\n"
     ]
    },
    {
     "name": "stderr",
     "output_type": "stream",
     "text": [
      "[**********************53%%                      ]  262 of 498 completed"
     ]
    },
    {
     "name": "stdout",
     "output_type": "stream",
     "text": [
      "$ROL: possibly delisted; No price data found  (1d 2015-01-01 -> 2015-01-01)\n",
      "$C: possibly delisted; No price data found  (1d 2015-01-01 -> 2015-01-01)\n",
      "$ADBE: possibly delisted; No price data found  (1d 2015-01-01 -> 2015-01-01)\n",
      "$DGX: possibly delisted; No price data found  (1d 2015-01-01 -> 2015-01-01)\n",
      "$BLDR: possibly delisted; No price data found  (1d 2015-01-01 -> 2015-01-01)\n",
      "$GD: possibly delisted; No price data found  (1d 2015-01-01 -> 2015-01-01)\n",
      "$INTC: possibly delisted; No price data found  (1d 2015-01-01 -> 2015-01-01)\n",
      "$MPWR: possibly delisted; No price data found  (1d 2015-01-01 -> 2015-01-01)\n",
      "$CB: possibly delisted; No price data found  (1d 2015-01-01 -> 2015-01-01)\n",
      "$DRI: possibly delisted; No price data found  (1d 2015-01-01 -> 2015-01-01)\n"
     ]
    },
    {
     "name": "stderr",
     "output_type": "stream",
     "text": [
      "[**********************57%%*                     ]  282 of 498 completed"
     ]
    },
    {
     "name": "stdout",
     "output_type": "stream",
     "text": [
      "$BKNG: possibly delisted; No price data found  (1d 2015-01-01 -> 2015-01-01)\n",
      "$GEN: possibly delisted; No price data found  (1d 2015-01-01 -> 2015-01-01)\n",
      "$PLD: possibly delisted; No price data found  (1d 2015-01-01 -> 2015-01-01)\n",
      "$WTW: possibly delisted; No price data found  (1d 2015-01-01 -> 2015-01-01)\n",
      "$LIN: possibly delisted; No price data found  (1d 2015-01-01 -> 2015-01-01)\n",
      "$STLD: possibly delisted; No price data found  (1d 2015-01-01 -> 2015-01-01)\n",
      "$DECK: possibly delisted; No price data found  (1d 2015-01-01 -> 2015-01-01)\n",
      "$ED: possibly delisted; No price data found  (1d 2015-01-01 -> 2015-01-01)\n",
      "$CLX: possibly delisted; No price data found  (1d 2015-01-01 -> 2015-01-01)\n",
      "$LMT: possibly delisted; No price data found  (1d 2015-01-01 -> 2015-01-01)\n",
      "$FICO: possibly delisted; No price data found  (1d 2015-01-01 -> 2015-01-01)\n",
      "$LYV: possibly delisted; No price data found  (1d 2015-01-01 -> 2015-01-01)\n",
      "$BLK: possibly delisted; No price data found  (1d 2015-01-01 -> 2015-01-01)\n",
      "$NI: possibly delisted; No price data found  (1d 2015-01-01 -> 2015-01-01)\n",
      "$CDW: possibly delisted; No price data found  (1d 2015-01-01 -> 2015-01-01)\n",
      "$NVDA: possibly delisted; No price data found  (1d 2015-01-01 -> 2015-01-01)\n",
      "$HUBB: possibly delisted; No price data found  (1d 2015-01-01 -> 2015-01-01)\n",
      "$GWW: possibly delisted; No price data found  (1d 2015-01-01 -> 2015-01-01)\n"
     ]
    },
    {
     "name": "stderr",
     "output_type": "stream",
     "text": [
      "[**********************61%%***                   ]  305 of 498 completed"
     ]
    },
    {
     "name": "stdout",
     "output_type": "stream",
     "text": [
      "$DHR: possibly delisted; No price data found  (1d 2015-01-01 -> 2015-01-01)\n",
      "$PAYX: possibly delisted; No price data found  (1d 2015-01-01 -> 2015-01-01)\n",
      "$TER: possibly delisted; No price data found  (1d 2015-01-01 -> 2015-01-01)\n",
      "$PNC: possibly delisted; No price data found  (1d 2015-01-01 -> 2015-01-01)\n",
      "$ICE: possibly delisted; No price data found  (1d 2015-01-01 -> 2015-01-01)\n",
      "$CAH: possibly delisted; No price data found  (1d 2015-01-01 -> 2015-01-01)\n",
      "$CMG: possibly delisted; No price data found  (1d 2015-01-01 -> 2015-01-01)\n",
      "$MAA: possibly delisted; No price data found  (1d 2015-01-01 -> 2015-01-01)\n",
      "$COO: possibly delisted; No price data found  (1d 2015-01-01 -> 2015-01-01)\n",
      "$EXC: possibly delisted; No price data found  (1d 2015-01-01 -> 2015-01-01)\n",
      "$KMI: possibly delisted; No price data found  (1d 2015-01-01 -> 2015-01-01)\n",
      "$CRM: possibly delisted; No price data found  (1d 2015-01-01 -> 2015-01-01)\n",
      "$TECH: possibly delisted; No price data found  (1d 2015-01-01 -> 2015-01-01)\n",
      "$TDY: possibly delisted; No price data found  (1d 2015-01-01 -> 2015-01-01)\n",
      "$ESS: possibly delisted; No price data found  (1d 2015-01-01 -> 2015-01-01)\n",
      "$NWSA: possibly delisted; No price data found  (1d 2015-01-01 -> 2015-01-01)\n",
      "$HSY: possibly delisted; No price data found  (1d 2015-01-01 -> 2015-01-01)\n",
      "$ETN: possibly delisted; No price data found  (1d 2015-01-01 -> 2015-01-01)\n",
      "$NSC: possibly delisted; No price data found  (1d 2015-01-01 -> 2015-01-01)\n",
      "$ALB: possibly delisted; No price data found  (1d 2015-01-01 -> 2015-01-01)\n",
      "$VMC: possibly delisted; No price data found  (1d 2015-01-01 -> 2015-01-01)\n",
      "$IVZ: possibly delisted; No price data found  (1d 2015-01-01 -> 2015-01-01)\n",
      "$WAT: possibly delisted; No price data found  (1d 2015-01-01 -> 2015-01-01)\n",
      "$MSCI: possibly delisted; No price data found  (1d 2015-01-01 -> 2015-01-01)\n"
     ]
    },
    {
     "name": "stderr",
     "output_type": "stream",
     "text": [
      "[**********************65%%*****                 ]  324 of 498 completed"
     ]
    },
    {
     "name": "stdout",
     "output_type": "stream",
     "text": [
      "$QCOM: possibly delisted; No price data found  (1d 2015-01-01 -> 2015-01-01)\n",
      "$WBA: possibly delisted; No price data found  (1d 2015-01-01 -> 2015-01-01)\n",
      "$NTRS: possibly delisted; No price data found  (1d 2015-01-01 -> 2015-01-01)\n",
      "$ROST: possibly delisted; No price data found  (1d 2015-01-01 -> 2015-01-01)\n",
      "$AEP: possibly delisted; No price data found  (1d 2015-01-01 -> 2015-01-01)\n",
      "$PSX: possibly delisted; No price data found  (1d 2015-01-01 -> 2015-01-01)\n",
      "$SYY: possibly delisted; No price data found  (1d 2015-01-01 -> 2015-01-01)\n",
      "$DAL: possibly delisted; No price data found  (1d 2015-01-01 -> 2015-01-01)\n",
      "$SNPS: possibly delisted; No price data found  (1d 2015-01-01 -> 2015-01-01)\n",
      "$AWK: possibly delisted; No price data found  (1d 2015-01-01 -> 2015-01-01)\n",
      "$AIG: possibly delisted; No price data found  (1d 2015-01-01 -> 2015-01-01)\n",
      "$MSFT: possibly delisted; No price data found  (1d 2015-01-01 -> 2015-01-01)\n",
      "$DIS: possibly delisted; No price data found  (1d 2015-01-01 -> 2015-01-01)\n",
      "$OMC: possibly delisted; No price data found  (1d 2015-01-01 -> 2015-01-01)\n",
      "$HSIC: possibly delisted; No price data found  (1d 2015-01-01 -> 2015-01-01)\n",
      "$RHI: possibly delisted; No price data found  (1d 2015-01-01 -> 2015-01-01)\n",
      "$ITW: possibly delisted; No price data found  (1d 2015-01-01 -> 2015-01-01)\n",
      "$MLM: possibly delisted; No price data found  (1d 2015-01-01 -> 2015-01-01)\n"
     ]
    },
    {
     "name": "stderr",
     "output_type": "stream",
     "text": [
      "[**********************68%%*******               ]  340 of 498 completed"
     ]
    },
    {
     "name": "stdout",
     "output_type": "stream",
     "text": [
      "$YUM: possibly delisted; No price data found  (1d 2015-01-01 -> 2015-01-01)\n",
      "$PEP: possibly delisted; No price data found  (1d 2015-01-01 -> 2015-01-01)\n",
      "$DOV: possibly delisted; No price data found  (1d 2015-01-01 -> 2015-01-01)\n",
      "$TDG: possibly delisted; No price data found  (1d 2015-01-01 -> 2015-01-01)\n",
      "$CNP: possibly delisted; No price data found  (1d 2015-01-01 -> 2015-01-01)\n",
      "$RMD: possibly delisted; No price data found  (1d 2015-01-01 -> 2015-01-01)\n",
      "$AMAT: possibly delisted; No price data found  (1d 2015-01-01 -> 2015-01-01)\n",
      "$MDLZ: possibly delisted; No price data found  (1d 2015-01-01 -> 2015-01-01)\n",
      "$CI: possibly delisted; No price data found  (1d 2015-01-01 -> 2015-01-01)\n",
      "$HES: possibly delisted; No price data found  (1d 2015-01-01 -> 2015-01-01)\n",
      "$CVX: possibly delisted; No price data found  (1d 2015-01-01 -> 2015-01-01)\n",
      "$UAL: possibly delisted; No price data found  (1d 2015-01-01 -> 2015-01-01)\n",
      "$FTNT: possibly delisted; No price data found  (1d 2015-01-01 -> 2015-01-01)\n",
      "$PCG: possibly delisted; No price data found  (1d 2015-01-01 -> 2015-01-01)\n",
      "$JNJ: possibly delisted; No price data found  (1d 2015-01-01 -> 2015-01-01)\n",
      "$MO: possibly delisted; No price data found  (1d 2015-01-01 -> 2015-01-01)\n"
     ]
    },
    {
     "name": "stderr",
     "output_type": "stream",
     "text": [
      "[**********************73%%*********             ]  364 of 498 completed"
     ]
    },
    {
     "name": "stdout",
     "output_type": "stream",
     "text": [
      "$EW: possibly delisted; No price data found  (1d 2015-01-01 -> 2015-01-01)\n",
      "$MTD: possibly delisted; No price data found  (1d 2015-01-01 -> 2015-01-01)\n",
      "$LRCX: possibly delisted; No price data found  (1d 2015-01-01 -> 2015-01-01)\n",
      "$BSX: possibly delisted; No price data found  (1d 2015-01-01 -> 2015-01-01)\n",
      "$STE: possibly delisted; No price data found  (1d 2015-01-01 -> 2015-01-01)\n",
      "$TRMB: possibly delisted; No price data found  (1d 2015-01-01 -> 2015-01-01)\n",
      "$AMD: possibly delisted; No price data found  (1d 2015-01-01 -> 2015-01-01)\n",
      "$TXT: possibly delisted; No price data found  (1d 2015-01-01 -> 2015-01-01)\n",
      "$ABT: possibly delisted; No price data found  (1d 2015-01-01 -> 2015-01-01)\n",
      "$CMA: possibly delisted; No price data found  (1d 2015-01-01 -> 2015-01-01)\n",
      "$ANET: possibly delisted; No price data found  (1d 2015-01-01 -> 2015-01-01)\n",
      "$ORCL: possibly delisted; No price data found  (1d 2015-01-01 -> 2015-01-01)\n",
      "$CE: possibly delisted; No price data found  (1d 2015-01-01 -> 2015-01-01)\n",
      "$BXP: possibly delisted; No price data found  (1d 2015-01-01 -> 2015-01-01)\n",
      "$POOL: possibly delisted; No price data found  (1d 2015-01-01 -> 2015-01-01)\n",
      "$ENPH: possibly delisted; No price data found  (1d 2015-01-01 -> 2015-01-01)\n",
      "$O: possibly delisted; No price data found  (1d 2015-01-01 -> 2015-01-01)\n",
      "$UPS: possibly delisted; No price data found  (1d 2015-01-01 -> 2015-01-01)\n",
      "$CME: possibly delisted; No price data found  (1d 2015-01-01 -> 2015-01-01)\n",
      "$BBWI: possibly delisted; No price data found  (1d 2015-01-01 -> 2015-01-01)\n",
      "$T: possibly delisted; No price data found  (1d 2015-01-01 -> 2015-01-01)\n"
     ]
    },
    {
     "name": "stderr",
     "output_type": "stream",
     "text": [
      "[**********************73%%*********             ]  366 of 498 completed"
     ]
    },
    {
     "name": "stdout",
     "output_type": "stream",
     "text": [
      "$FMC: possibly delisted; No price data found  (1d 2015-01-01 -> 2015-01-01)\n",
      "$HD: possibly delisted; No price data found  (1d 2015-01-01 -> 2015-01-01)\n"
     ]
    },
    {
     "name": "stderr",
     "output_type": "stream",
     "text": [
      "[**********************78%%***********           ]  387 of 498 completed"
     ]
    },
    {
     "name": "stdout",
     "output_type": "stream",
     "text": [
      "$FI: possibly delisted; No price data found  (1d 2015-01-01 -> 2015-01-01)\n",
      "$EXPE: possibly delisted; No price data found  (1d 2015-01-01 -> 2015-01-01)\n",
      "$CPT: possibly delisted; No price data found  (1d 2015-01-01 -> 2015-01-01)\n",
      "$GPC: possibly delisted; No price data found  (1d 2015-01-01 -> 2015-01-01)\n",
      "$VZ: possibly delisted; No price data found  (1d 2015-01-01 -> 2015-01-01)\n",
      "$HON: possibly delisted; No price data found  (1d 2015-01-01 -> 2015-01-01)\n",
      "$PCAR: possibly delisted; No price data found  (1d 2015-01-01 -> 2015-01-01)\n",
      "$ETR: possibly delisted; No price data found  (1d 2015-01-01 -> 2015-01-01)\n",
      "$XEL: possibly delisted; No price data found  (1d 2015-01-01 -> 2015-01-01)\n",
      "$LHX: possibly delisted; No price data found  (1d 2015-01-01 -> 2015-01-01)\n",
      "$TEL: possibly delisted; No price data found  (1d 2015-01-01 -> 2015-01-01)\n",
      "$URI: possibly delisted; No price data found  (1d 2015-01-01 -> 2015-01-01)\n",
      "$BIIB: possibly delisted; No price data found  (1d 2015-01-01 -> 2015-01-01)\n",
      "$TSN: possibly delisted; No price data found  (1d 2015-01-01 -> 2015-01-01)\n",
      "$CBOE: possibly delisted; No price data found  (1d 2015-01-01 -> 2015-01-01)\n",
      "$MMC: possibly delisted; No price data found  (1d 2015-01-01 -> 2015-01-01)\n",
      "$EQT: possibly delisted; No price data found  (1d 2015-01-01 -> 2015-01-01)\n",
      "$SO: possibly delisted; No price data found  (1d 2015-01-01 -> 2015-01-01)\n",
      "$L: possibly delisted; No price data found  (1d 2015-01-01 -> 2015-01-01)\n",
      "$HPQ: possibly delisted; No price data found  (1d 2015-01-01 -> 2015-01-01)\n"
     ]
    },
    {
     "name": "stderr",
     "output_type": "stream",
     "text": [
      "[**********************80%%************          ]  396 of 498 completed"
     ]
    },
    {
     "name": "stdout",
     "output_type": "stream",
     "text": [
      "$JPM: possibly delisted; No price data found  (1d 2015-01-01 -> 2015-01-01)\n",
      "$FITB: possibly delisted; No price data found  (1d 2015-01-01 -> 2015-01-01)\n",
      "$BAC: possibly delisted; No price data found  (1d 2015-01-01 -> 2015-01-01)\n",
      "$LYB: possibly delisted; No price data found  (1d 2015-01-01 -> 2015-01-01)\n",
      "$ANSS: possibly delisted; No price data found  (1d 2015-01-01 -> 2015-01-01)\n",
      "$FDX: possibly delisted; No price data found  (1d 2015-01-01 -> 2015-01-01)\n",
      "$LULU: possibly delisted; No price data found  (1d 2015-01-01 -> 2015-01-01)\n",
      "$HUM: possibly delisted; No price data found  (1d 2015-01-01 -> 2015-01-01)\n"
     ]
    },
    {
     "name": "stderr",
     "output_type": "stream",
     "text": [
      "[**********************82%%*************         ]  407 of 498 completed"
     ]
    },
    {
     "name": "stdout",
     "output_type": "stream",
     "text": [
      "$FFIV: possibly delisted; No price data found  (1d 2015-01-01 -> 2015-01-01)\n",
      "$IQV: possibly delisted; No price data found  (1d 2015-01-01 -> 2015-01-01)\n",
      "$STZ: possibly delisted; No price data found  (1d 2015-01-01 -> 2015-01-01)\n",
      "$EXR: possibly delisted; No price data found  (1d 2015-01-01 -> 2015-01-01)\n",
      "$AON: possibly delisted; No price data found  (1d 2015-01-01 -> 2015-01-01)\n",
      "$TAP: possibly delisted; No price data found  (1d 2015-01-01 -> 2015-01-01)\n",
      "$PNR: possibly delisted; No price data found  (1d 2015-01-01 -> 2015-01-01)\n",
      "$MU: possibly delisted; No price data found  (1d 2015-01-01 -> 2015-01-01)\n",
      "$PKG: possibly delisted; No price data found  (1d 2015-01-01 -> 2015-01-01)\n",
      "$LKQ: possibly delisted; No price data found  (1d 2015-01-01 -> 2015-01-01)\n"
     ]
    },
    {
     "name": "stderr",
     "output_type": "stream",
     "text": [
      "[**********************84%%**************        ]  420 of 498 completed"
     ]
    },
    {
     "name": "stdout",
     "output_type": "stream",
     "text": [
      "$PTC: possibly delisted; No price data found  (1d 2015-01-01 -> 2015-01-01)\n",
      "$CTLT: possibly delisted; No price data found  (1d 2015-01-01 -> 2015-01-01)\n",
      "$EQIX: possibly delisted; No price data found  (1d 2015-01-01 -> 2015-01-01)\n",
      "$ODFL: possibly delisted; No price data found  (1d 2015-01-01 -> 2015-01-01)\n",
      "$NCLH: possibly delisted; No price data found  (1d 2015-01-01 -> 2015-01-01)\n",
      "$LNT: possibly delisted; No price data found  (1d 2015-01-01 -> 2015-01-01)\n",
      "$UDR: possibly delisted; No price data found  (1d 2015-01-01 -> 2015-01-01)\n",
      "$ROK: possibly delisted; No price data found  (1d 2015-01-01 -> 2015-01-01)\n",
      "$CTRA: possibly delisted; No price data found  (1d 2015-01-01 -> 2015-01-01)\n",
      "$WELL: possibly delisted; No price data found  (1d 2015-01-01 -> 2015-01-01)\n",
      "$LUV: possibly delisted; No price data found  (1d 2015-01-01 -> 2015-01-01)\n"
     ]
    },
    {
     "name": "stderr",
     "output_type": "stream",
     "text": [
      "[**********************89%%*****************     ]  443 of 498 completed"
     ]
    },
    {
     "name": "stdout",
     "output_type": "stream",
     "text": [
      "$MNST: possibly delisted; No price data found  (1d 2015-01-01 -> 2015-01-01)\n",
      "$EBAY: possibly delisted; No price data found  (1d 2015-01-01 -> 2015-01-01)\n",
      "$AMZN: possibly delisted; No price data found  (1d 2015-01-01 -> 2015-01-01)\n",
      "$NTAP: possibly delisted; No price data found  (1d 2015-01-01 -> 2015-01-01)\n",
      "$COF: possibly delisted; No price data found  (1d 2015-01-01 -> 2015-01-01)\n",
      "$NUE: possibly delisted; No price data found  (1d 2015-01-01 -> 2015-01-01)\n",
      "$BBY: possibly delisted; No price data found  (1d 2015-01-01 -> 2015-01-01)\n",
      "$FRT: possibly delisted; No price data found  (1d 2015-01-01 -> 2015-01-01)\n",
      "$ZBH: possibly delisted; No price data found  (1d 2015-01-01 -> 2015-01-01)\n",
      "$IDXX: possibly delisted; No price data found  (1d 2015-01-01 -> 2015-01-01)\n",
      "$ARE: possibly delisted; No price data found  (1d 2015-01-01 -> 2015-01-01)\n",
      "$PFG: possibly delisted; No price data found  (1d 2015-01-01 -> 2015-01-01)\n",
      "$EMR: possibly delisted; No price data found  (1d 2015-01-01 -> 2015-01-01)\n",
      "$NKE: possibly delisted; No price data found  (1d 2015-01-01 -> 2015-01-01)\n",
      "$CNC: possibly delisted; No price data found  (1d 2015-01-01 -> 2015-01-01)\n",
      "$VRSN: possibly delisted; No price data found  (1d 2015-01-01 -> 2015-01-01)\n",
      "$AAL: possibly delisted; No price data found  (1d 2015-01-01 -> 2015-01-01)\n",
      "$TRGP: possibly delisted; No price data found  (1d 2015-01-01 -> 2015-01-01)\n",
      "$CINF: possibly delisted; No price data found  (1d 2015-01-01 -> 2015-01-01)\n",
      "$K: possibly delisted; No price data found  (1d 2015-01-01 -> 2015-01-01)\n",
      "$AOS: possibly delisted; No price data found  (1d 2015-01-01 -> 2015-01-01)\n",
      "$DOC: possibly delisted; No price data found  (1d 2015-01-01 -> 2015-01-01)\n"
     ]
    },
    {
     "name": "stderr",
     "output_type": "stream",
     "text": [
      "[**********************94%%*******************   ]  466 of 498 completed"
     ]
    },
    {
     "name": "stdout",
     "output_type": "stream",
     "text": [
      "$CL: possibly delisted; No price data found  (1d 2015-01-01 -> 2015-01-01)\n",
      "$SPG: possibly delisted; No price data found  (1d 2015-01-01 -> 2015-01-01)\n",
      "$CTAS: possibly delisted; No price data found  (1d 2015-01-01 -> 2015-01-01)\n",
      "$DXCM: possibly delisted; No price data found  (1d 2015-01-01 -> 2015-01-01)\n",
      "$AMGN: possibly delisted; No price data found  (1d 2015-01-01 -> 2015-01-01)\n",
      "$CMCSA: possibly delisted; No price data found  (1d 2015-01-01 -> 2015-01-01)\n",
      "$EPAM: possibly delisted; No price data found  (1d 2015-01-01 -> 2015-01-01)\n",
      "$WAB: possibly delisted; No price data found  (1d 2015-01-01 -> 2015-01-01)\n",
      "$UHS: possibly delisted; No price data found  (1d 2015-01-01 -> 2015-01-01)\n",
      "$TROW: possibly delisted; No price data found  (1d 2015-01-01 -> 2015-01-01)\n",
      "$RTX: possibly delisted; No price data found  (1d 2015-01-01 -> 2015-01-01)\n",
      "$PPL: possibly delisted; No price data found  (1d 2015-01-01 -> 2015-01-01)\n",
      "$GM: possibly delisted; No price data found  (1d 2015-01-01 -> 2015-01-01)\n",
      "$HII: possibly delisted; No price data found  (1d 2015-01-01 -> 2015-01-01)\n",
      "$WRB: possibly delisted; No price data found  (1d 2015-01-01 -> 2015-01-01)\n",
      "$MAR: possibly delisted; No price data found  (1d 2015-01-01 -> 2015-01-01)\n",
      "$PWR: possibly delisted; No price data found  (1d 2015-01-01 -> 2015-01-01)\n",
      "$SCHW: possibly delisted; No price data found  (1d 2015-01-01 -> 2015-01-01)\n",
      "$KMX: possibly delisted; No price data found  (1d 2015-01-01 -> 2015-01-01)\n",
      "$COR: possibly delisted; No price data found  (1d 2015-01-01 -> 2015-01-01)\n",
      "$DLTR: possibly delisted; No price data found  (1d 2015-01-01 -> 2015-01-01)\n",
      "$CZR: possibly delisted; No price data found  (1d 2015-01-01 -> 2015-01-01)\n",
      "$MCD: possibly delisted; No price data found  (1d 2015-01-01 -> 2015-01-01)\n",
      "$FCX: possibly delisted; No price data found  (1d 2015-01-01 -> 2015-01-01)\n",
      "$ACN: possibly delisted; No price data found  (1d 2015-01-01 -> 2015-01-01)\n"
     ]
    },
    {
     "name": "stderr",
     "output_type": "stream",
     "text": [
      "[**********************95%%********************  ]  475 of 498 completed"
     ]
    },
    {
     "name": "stdout",
     "output_type": "stream",
     "text": [
      "$DVN: possibly delisted; No price data found  (1d 2015-01-01 -> 2015-01-01)\n",
      "$BR: possibly delisted; No price data found  (1d 2015-01-01 -> 2015-01-01)\n",
      "$MDT: possibly delisted; No price data found  (1d 2015-01-01 -> 2015-01-01)\n",
      "$PARA: possibly delisted; No price data found  (1d 2015-01-01 -> 2015-01-01)\n",
      "$AEE: possibly delisted; No price data found  (1d 2015-01-01 -> 2015-01-01)\n",
      "$HBAN: possibly delisted; No price data found  (1d 2015-01-01 -> 2015-01-01)\n",
      "$MTB: possibly delisted; No price data found  (1d 2015-01-01 -> 2015-01-01)\n"
     ]
    },
    {
     "name": "stderr",
     "output_type": "stream",
     "text": [
      "[**********************99%%**********************]  494 of 498 completed"
     ]
    },
    {
     "name": "stdout",
     "output_type": "stream",
     "text": [
      "$ZBRA: possibly delisted; No price data found  (1d 2015-01-01 -> 2015-01-01)\n",
      "$LDOS: possibly delisted; No price data found  (1d 2015-01-01 -> 2015-01-01)\n",
      "$AMP: possibly delisted; No price data found  (1d 2015-01-01 -> 2015-01-01)\n",
      "$COST: possibly delisted; No price data found  (1d 2015-01-01 -> 2015-01-01)\n",
      "$AMCR: possibly delisted; No price data found  (1d 2015-01-01 -> 2015-01-01)\n",
      "$UNH: possibly delisted; No price data found  (1d 2015-01-01 -> 2015-01-01)\n",
      "$APA: possibly delisted; No price data found  (1d 2015-01-01 -> 2015-01-01)\n",
      "$BK: possibly delisted; No price data found  (1d 2015-01-01 -> 2015-01-01)\n",
      "$AZO: possibly delisted; No price data found  (1d 2015-01-01 -> 2015-01-01)\n",
      "$CPB: possibly delisted; No price data found  (1d 2015-01-01 -> 2015-01-01)\n",
      "$PM: possibly delisted; No price data found  (1d 2015-01-01 -> 2015-01-01)\n",
      "$A: possibly delisted; No price data found  (1d 2015-01-01 -> 2015-01-01)\n",
      "$XYL: possibly delisted; No price data found  (1d 2015-01-01 -> 2015-01-01)\n",
      "$AAPL: possibly delisted; No price data found  (1d 2015-01-01 -> 2015-01-01)\n",
      "$TT: possibly delisted; No price data found  (1d 2015-01-01 -> 2015-01-01)\n",
      "$PSA: possibly delisted; No price data found  (1d 2015-01-01 -> 2015-01-01)\n",
      "$MRK: possibly delisted; No price data found  (1d 2015-01-01 -> 2015-01-01)\n",
      "$GILD: possibly delisted; No price data found  (1d 2015-01-01 -> 2015-01-01)\n",
      "$JBL: possibly delisted; No price data found  (1d 2015-01-01 -> 2015-01-01)\n"
     ]
    },
    {
     "name": "stderr",
     "output_type": "stream",
     "text": [
      "[*********************100%%**********************]  498 of 498 completed\n",
      "\n",
      "498 Failed downloads:\n",
      "['TYL', 'NFLX', 'PODD', 'SLB', 'EMN', 'PH', 'AJG', 'AVY', 'ALL', 'NEE', 'KEYS', 'AMT', 'CBRE', 'AVGO', 'GPN', 'DHI', 'ES', 'VRSK', 'COP', 'INCY', 'STT', 'LEN', 'ADM', 'REG', 'BEN', 'HRL', 'FAST', 'NRG', 'TGT', 'CHD', 'MHK', 'KIM', 'NVR', 'CRL', 'CMS', 'LOW', 'MMM', 'IT', 'SJM', 'DLR', 'WEC', 'BALL', 'ECL', 'SPGI', 'SYK', 'APD', 'SNA', 'CHTR', 'TSCO', 'VLO', 'ADI', 'SMCI', 'TPR', 'WY', 'PHM', 'KLAC', 'BWA', 'ISRG', 'MKTX', 'ABBV', 'TMO', 'MCHP', 'SWK', 'DD', 'DVA', 'IEX', 'SBUX', 'HIG', 'MPC', 'APH', 'DE', 'JCI', 'KO', 'LH', 'BAX', 'MAS', 'CDNS', 'MET', 'CSGP', 'CMI', 'MCK', 'BKR', 'NOW', 'RCL', 'AIZ', 'PAYC', 'ILMN', 'HAS', 'AFL', 'ROP', 'MKC', 'MGM', 'IFF', 'AES', 'RL', 'IBM', 'TXN', 'BX', 'BDX', 'SRE', 'GOOGL', 'PANW', 'WBD', 'VTR', 'MA', 'AKAM', 'WST', 'KDP', 'DUK', 'BG', 'LLY', 'WFC', 'ORLY', 'LVS', 'GOOG', 'HLT', 'HCA', 'ELV', 'PG', 'MCO', 'GIS', 'DG', 'IP', 'WYNN', 'NOC', 'EVRG', 'INTU', 'VTRS', 'GLW', 'CAG', 'CSX', 'XOM', 'ULTA', 'NWS', 'TTWO', 'SBAC', 'GRMN', 'WMB', 'BMY', 'DFS', 'KMB', 'EOG', 'FE', 'RJF', 'MOH', 'FANG', 'HST', 'WM', 'AXON', 'WMT', 'RF', 'PNW', 'HOLX', 'CF', 'BA', 'CAT', 'SWKS', 'KEY', 'JNPR', 'ZTS', 'JKHY', 'ACGL', 'TRV', 'ON', 'SHW', 'MTCH', 'CSCO', 'EXPD', 'BRO', 'CHRW', 'SYF', 'MRO', 'NDAQ', 'RVTY', 'ALGN', 'MOS', 'DPZ', 'TFX', 'AVB', 'NEM', 'EQR', 'AME', 'ATO', 'EL', 'PFE', 'ADSK', 'APTV', 'EG', 'PPG', 'AXP', 'NDSN', 'ADP', 'RSG', 'IRM', 'DTE', 'GS', 'CPAY', 'OKE', 'BIO', 'WDC', 'USB', 'PEG', 'UNP', 'CPRT', 'TSLA', 'META', 'GNRC', 'EA', 'CTSH', 'NXPI', 'PRU', 'V', 'TFC', 'CFG', 'CCL', 'TJX', 'FDS', 'TMUS', 'CCI', 'J', 'ALLE', 'EFX', 'FSLR', 'PGR', 'EIX', 'GE', 'REGN', 'D', 'KR', 'IPG', 'OXY', 'JBHT', 'FIS', 'GL', 'STX', 'VRTX', 'HAL', 'CVS', 'ROL', 'C', 'ADBE', 'DGX', 'BLDR', 'GD', 'INTC', 'MPWR', 'CB', 'DRI', 'BKNG', 'GEN', 'PLD', 'WTW', 'LIN', 'STLD', 'DECK', 'ED', 'CLX', 'LMT', 'FICO', 'LYV', 'BLK', 'NI', 'CDW', 'NVDA', 'HUBB', 'GWW', 'DHR', 'PAYX', 'TER', 'PNC', 'ICE', 'CAH', 'CMG', 'MAA', 'COO', 'EXC', 'KMI', 'CRM', 'TECH', 'TDY', 'ESS', 'NWSA', 'HSY', 'ETN', 'NSC', 'ALB', 'VMC', 'IVZ', 'WAT', 'MSCI', 'QCOM', 'WBA', 'NTRS', 'ROST', 'AEP', 'PSX', 'SYY', 'DAL', 'SNPS', 'AWK', 'AIG', 'MSFT', 'DIS', 'OMC', 'HSIC', 'RHI', 'ITW', 'MLM', 'YUM', 'PEP', 'DOV', 'TDG', 'CNP', 'RMD', 'AMAT', 'MDLZ', 'CI', 'HES', 'CVX', 'UAL', 'FTNT', 'PCG', 'JNJ', 'MO', 'EW', 'MTD', 'LRCX', 'BSX', 'STE', 'TRMB', 'AMD', 'TXT', 'ABT', 'CMA', 'ANET', 'ORCL', 'CE', 'BXP', 'POOL', 'ENPH', 'O', 'UPS', 'CME', 'BBWI', 'T', 'FMC', 'HD', 'FI', 'EXPE', 'CPT', 'GPC', 'VZ', 'HON', 'PCAR', 'ETR', 'XEL', 'LHX', 'TEL', 'URI', 'BIIB', 'TSN', 'CBOE', 'MMC', 'EQT', 'SO', 'L', 'HPQ', 'JPM', 'FITB', 'BAC', 'LYB', 'ANSS', 'FDX', 'LULU', 'HUM', 'FFIV', 'IQV', 'STZ', 'EXR', 'AON', 'TAP', 'PNR', 'MU', 'PKG', 'LKQ', 'PTC', 'CTLT', 'EQIX', 'ODFL', 'NCLH', 'LNT', 'UDR', 'ROK', 'CTRA', 'WELL', 'LUV', 'MNST', 'EBAY', 'AMZN', 'NTAP', 'COF', 'NUE', 'BBY', 'FRT', 'ZBH', 'IDXX', 'ARE', 'PFG', 'EMR', 'NKE', 'CNC', 'VRSN', 'AAL', 'TRGP', 'CINF', 'K', 'AOS', 'DOC', 'CL', 'SPG', 'CTAS', 'DXCM', 'AMGN', 'CMCSA', 'EPAM', 'WAB', 'UHS', 'TROW', 'RTX', 'PPL', 'GM', 'HII', 'WRB', 'MAR', 'PWR', 'SCHW', 'KMX', 'COR', 'DLTR', 'CZR', 'MCD', 'FCX', 'ACN', 'DVN', 'BR', 'MDT', 'PARA', 'AEE', 'HBAN', 'MTB', 'ZBRA', 'LDOS', 'AMP', 'COST', 'AMCR', 'UNH', 'APA', 'BK', 'AZO', 'CPB', 'PM', 'A', 'XYL', 'AAPL', 'TT', 'PSA', 'MRK', 'GILD', 'JBL', 'MS', 'MSI']: YFPricesMissingError('$%ticker%: possibly delisted; No price data found  (1d 2015-01-01 -> 2015-01-01)')\n",
      "['CARR', 'HPE', 'QRVO', 'ETSY', 'FOXA', 'ABNB', 'DOW', 'PYPL', 'UBER', 'WRK', 'DAY', 'KHC', 'INVH', 'LW', 'VST', 'FTV', 'CTVA', 'VICI', 'MRNA', 'IR', 'KVUE', 'HWM', 'FOX', 'GEHC', 'CEG', 'OTIS']: YFChartError(\"%ticker%: Data doesn't exist for startDate = 1420088400, endDate = 1420088400\")\n",
      "['F']: Y%ticker%PricesMissingError('$%ticker%: possibly delisted; No price data found  (1d 2015-01-01 -> 2015-01-01)')\n"
     ]
    },
    {
     "name": "stdout",
     "output_type": "stream",
     "text": [
      "$MS: possibly delisted; No price data found  (1d 2015-01-01 -> 2015-01-01)\n",
      "$MSI: possibly delisted; No price data found  (1d 2015-01-01 -> 2015-01-01)\n",
      "Empty DataFrame\n",
      "Columns: [(Adj Close, A), (Adj Close, AAL), (Adj Close, AAPL), (Adj Close, ABBV), (Adj Close, ABNB), (Adj Close, ABT), (Adj Close, ACGL), (Adj Close, ACN), (Adj Close, ADBE), (Adj Close, ADI), (Adj Close, ADM), (Adj Close, ADP), (Adj Close, ADSK), (Adj Close, AEE), (Adj Close, AEP), (Adj Close, AES), (Adj Close, AFL), (Adj Close, AIG), (Adj Close, AIZ), (Adj Close, AJG), (Adj Close, AKAM), (Adj Close, ALB), (Adj Close, ALGN), (Adj Close, ALL), (Adj Close, ALLE), (Adj Close, AMAT), (Adj Close, AMCR), (Adj Close, AMD), (Adj Close, AME), (Adj Close, AMGN), (Adj Close, AMP), (Adj Close, AMT), (Adj Close, AMZN), (Adj Close, ANET), (Adj Close, ANSS), (Adj Close, AON), (Adj Close, AOS), (Adj Close, APA), (Adj Close, APD), (Adj Close, APH), (Adj Close, APTV), (Adj Close, ARE), (Adj Close, ATO), (Adj Close, AVB), (Adj Close, AVGO), (Adj Close, AVY), (Adj Close, AWK), (Adj Close, AXON), (Adj Close, AXP), (Adj Close, AZO), (Adj Close, BA), (Adj Close, BAC), (Adj Close, BALL), (Adj Close, BAX), (Adj Close, BBWI), (Adj Close, BBY), (Adj Close, BDX), (Adj Close, BEN), (Adj Close, BG), (Adj Close, BIIB), (Adj Close, BIO), (Adj Close, BK), (Adj Close, BKNG), (Adj Close, BKR), (Adj Close, BLDR), (Adj Close, BLK), (Adj Close, BMY), (Adj Close, BR), (Adj Close, BRO), (Adj Close, BSX), (Adj Close, BWA), (Adj Close, BX), (Adj Close, BXP), (Adj Close, C), (Adj Close, CAG), (Adj Close, CAH), (Adj Close, CARR), (Adj Close, CAT), (Adj Close, CB), (Adj Close, CBOE), (Adj Close, CBRE), (Adj Close, CCI), (Adj Close, CCL), (Adj Close, CDNS), (Adj Close, CDW), (Adj Close, CE), (Adj Close, CEG), (Adj Close, CF), (Adj Close, CFG), (Adj Close, CHD), (Adj Close, CHRW), (Adj Close, CHTR), (Adj Close, CI), (Adj Close, CINF), (Adj Close, CL), (Adj Close, CLX), (Adj Close, CMA), (Adj Close, CMCSA), (Adj Close, CME), (Adj Close, CMG), ...]\n",
      "Index: []\n",
      "\n",
      "[0 rows x 2988 columns]\n"
     ]
    }
   ],
   "source": [
    "data = yf.download(list_of_symbols__, start=\"2015-01-01\", end=\"2015-01-01\")\n",
    "print(data.head())"
   ]
  },
  {
   "cell_type": "code",
   "execution_count": null,
   "id": "5c70e521-61d3-40eb-998f-cfdcd7c452f7",
   "metadata": {},
   "outputs": [],
   "source": []
  }
 ],
 "metadata": {
  "kernelspec": {
   "display_name": "Python 3 (ipykernel)",
   "language": "python",
   "name": "python3"
  },
  "language_info": {
   "codemirror_mode": {
    "name": "ipython",
    "version": 3
   },
   "file_extension": ".py",
   "mimetype": "text/x-python",
   "name": "python",
   "nbconvert_exporter": "python",
   "pygments_lexer": "ipython3",
   "version": "3.8.0"
  }
 },
 "nbformat": 4,
 "nbformat_minor": 5
}
